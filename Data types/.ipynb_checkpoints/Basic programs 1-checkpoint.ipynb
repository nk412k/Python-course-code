{
 "cells": [
  {
   "cell_type": "code",
   "execution_count": 1,
   "metadata": {},
   "outputs": [
    {
     "name": "stdout",
     "output_type": "stream",
     "text": [
      "Hello world\n"
     ]
    }
   ],
   "source": [
    "# WAP to print hello world\n",
    "print(\"Hello world\")"
   ]
  },
  {
   "cell_type": "code",
   "execution_count": 3,
   "metadata": {},
   "outputs": [
    {
     "name": "stdout",
     "output_type": "stream",
     "text": [
      "Enter your name NK\n",
      "NAme = NK\n",
      "Name = NK\n",
      "Name = NK\n"
     ]
    }
   ],
   "source": [
    "# WAP to take input your name and print\n",
    "name=input(\"Enter your name \")\n",
    "print(\"NAme = %s\"%name)\n",
    "print(\"Name = {}\".format(name))\n",
    "print(f\"Name = {name}\")"
   ]
  },
  {
   "cell_type": "code",
   "execution_count": 13,
   "metadata": {},
   "outputs": [
    {
     "name": "stdout",
     "output_type": "stream",
     "text": [
      "Enter 1st number 8\n",
      "ENter 2nd number 4\n",
      "SUM= 12\n",
      "SUB= 4\n",
      "Mul= 32\n",
      "DIv= 2\n"
     ]
    }
   ],
   "source": [
    "# input 2 number and print it sum subtaction divion multiplication\n",
    "a=int(input(\"Enter 1st number \"))\n",
    "b=int(input(\"ENter 2nd number \"))\n",
    "print(\"SUM= {}\".format(a+b))\n",
    "print(\"SUB= %d\"%(a-b))\n",
    "print(f\"Mul= {a*b}\")\n",
    "print(f\"DIv= {a//b}\")"
   ]
  },
  {
   "cell_type": "code",
   "execution_count": 14,
   "metadata": {},
   "outputs": [
    {
     "name": "stdout",
     "output_type": "stream",
     "text": [
      "Enter stringThe quick\n",
      "the quick\n"
     ]
    }
   ],
   "source": [
    "# take a string and lower is case\n",
    "s=input(\"Enter string \")\n",
    "print(s.lower())"
   ]
  },
  {
   "cell_type": "code",
   "execution_count": 15,
   "metadata": {},
   "outputs": [
    {
     "name": "stdout",
     "output_type": "stream",
     "text": [
      "Enter string the quick\n",
      "THE QUICK\n"
     ]
    }
   ],
   "source": [
    "# take a string and upper is case\n",
    "s=input(\"Enter string \")\n",
    "print(s.upper())"
   ]
  },
  {
   "cell_type": "code",
   "execution_count": 16,
   "metadata": {},
   "outputs": [
    {
     "name": "stdout",
     "output_type": "stream",
     "text": [
      "Enter string the QUICk\n",
      "THE quicK\n"
     ]
    }
   ],
   "source": [
    "# take a string and swap its case\n",
    "s=input(\"Enter string \")\n",
    "print(s.swapcase())"
   ]
  },
  {
   "cell_type": "code",
   "execution_count": 23,
   "metadata": {},
   "outputs": [
    {
     "name": "stdout",
     "output_type": "stream",
     "text": [
      "enter stringthe quick brown fox 22 33\n",
      "False\n",
      "False\n",
      "False\n",
      "False\n",
      "True\n",
      "True\n"
     ]
    }
   ],
   "source": [
    "# take a string and check each word for digit\n",
    "s=input(\"enter string\")\n",
    "wlist=s.split()\n",
    "l=len(wlist)\n",
    "for i in range(0,l,1):\n",
    "    print(wlist[i].isdigit())"
   ]
  },
  {
   "cell_type": "code",
   "execution_count": 24,
   "metadata": {},
   "outputs": [
    {
     "name": "stdout",
     "output_type": "stream",
     "text": [
      "enter stringthe quick brown fox 22 33\n",
      "False\n",
      "False\n",
      "False\n",
      "False\n",
      "True\n",
      "True\n"
     ]
    }
   ],
   "source": [
    "# take a string and check each word for digit\n",
    "s=input(\"enter string\")\n",
    "wlist=s.split()\n",
    "\n",
    "for i in wlist:\n",
    "    print(i.isdigit())"
   ]
  },
  {
   "cell_type": "code",
   "execution_count": 26,
   "metadata": {
    "scrolled": true
   },
   "outputs": [
    {
     "name": "stdout",
     "output_type": "stream",
     "text": [
      "enter stringthe quick brown fox 22 33\n",
      "False\n",
      "False\n",
      "False\n",
      "False\n",
      "True\n",
      "True\n"
     ]
    }
   ],
   "source": [
    "# take a string and check each word for digit\n",
    "s=input(\"enter string\")\n",
    "wlist=s.split()\n",
    "\n",
    "for i,j in enumerate(wlist):\n",
    "    print(j.isdigit())"
   ]
  },
  {
   "cell_type": "code",
   "execution_count": 28,
   "metadata": {},
   "outputs": [
    {
     "name": "stdout",
     "output_type": "stream",
     "text": [
      "enter stringthe quik brown 2\n",
      "False\n",
      "False\n",
      "False\n",
      "True\n"
     ]
    }
   ],
   "source": [
    "# take a string and check each word for digit\n",
    "s=input(\"enter string\")\n",
    "\n",
    "\n",
    "for i,j in enumerate(s.split()):\n",
    "    print(j.isdigit())"
   ]
  },
  {
   "cell_type": "code",
   "execution_count": 2,
   "metadata": {},
   "outputs": [
    {
     "name": "stdout",
     "output_type": "stream",
     "text": [
      "Enter number5\n",
      "odd\n"
     ]
    }
   ],
   "source": [
    "#to check even odd\n",
    "a=int(input(\"Enter number\"))\n",
    "if a%2==0:\n",
    "    print(\"Even\")\n",
    "else:\n",
    "    print(\"odd\")"
   ]
  },
  {
   "cell_type": "code",
   "execution_count": 16,
   "metadata": {},
   "outputs": [
    {
     "name": "stdout",
     "output_type": "stream",
     "text": [
      "Enter a characters\n",
      "115\n"
     ]
    }
   ],
   "source": [
    "#to print ASCII value of a character\n",
    "c=input(\"Enter a character\")\n",
    "print(ord(c))"
   ]
  },
  {
   "cell_type": "code",
   "execution_count": 17,
   "metadata": {},
   "outputs": [
    {
     "name": "stdout",
     "output_type": "stream",
     "text": [
      "Enter stringthe quick brown fox\n",
      "116\n",
      "104\n",
      "101\n",
      "32\n",
      "113\n",
      "117\n",
      "105\n",
      "99\n",
      "107\n",
      "32\n",
      "98\n",
      "114\n",
      "111\n",
      "119\n",
      "110\n",
      "32\n",
      "102\n",
      "111\n",
      "120\n"
     ]
    }
   ],
   "source": [
    "#print ASCII value of a string\n",
    "st=input(\"Enter string \")\n",
    "for al in st:\n",
    "    print(ord(al))"
   ]
  },
  {
   "cell_type": "code",
   "execution_count": 19,
   "metadata": {},
   "outputs": [
    {
     "name": "stdout",
     "output_type": "stream",
     "text": [
      "ENter n 5\n",
      "15\n"
     ]
    }
   ],
   "source": [
    "# sum of first n interger\n",
    "n=int(input(\"ENter n \"))\n",
    "sum=0\n",
    "for i in range(n+1):\n",
    "    sum=sum+i\n",
    "print(sum)"
   ]
  },
  {
   "cell_type": "code",
   "execution_count": 21,
   "metadata": {},
   "outputs": [
    {
     "name": "stdout",
     "output_type": "stream",
     "text": [
      "Enter n4\n",
      "1\n",
      "4\n",
      "9\n",
      "16\n"
     ]
    }
   ],
   "source": [
    "#print square of first n numbers\n",
    "n=int(input(\"Enter n \"))\n",
    "for i in range(1,n+1):\n",
    "    print(i*i)"
   ]
  },
  {
   "cell_type": "code",
   "execution_count": 23,
   "metadata": {},
   "outputs": [
    {
     "name": "stdout",
     "output_type": "stream",
     "text": [
      "enter n5\n",
      "55\n"
     ]
    }
   ],
   "source": [
    "#print sum of square of first n integer\n",
    "n=int(input(\"enter n\"))\n",
    "ssum=0\n",
    "for i in range(1,n+1):\n",
    "    ssum=ssum+(i*i)\n",
    "print(ssum)"
   ]
  },
  {
   "cell_type": "code",
   "execution_count": 24,
   "metadata": {},
   "outputs": [
    {
     "name": "stdout",
     "output_type": "stream",
     "text": [
      "ENter n5\n",
      "5 4 3 2 1 "
     ]
    }
   ],
   "source": [
    "# print first n interger in reverse order\n",
    "n=int(input(\"ENter n \"))\n",
    "for i in range(n,0,-1):\n",
    "    print(i,end=\" \")"
   ]
  },
  {
   "cell_type": "code",
   "execution_count": 25,
   "metadata": {},
   "outputs": [
    {
     "name": "stdout",
     "output_type": "stream",
     "text": [
      "ENter first number 5\n",
      "enter second number4\n",
      "5 is greater\n"
     ]
    }
   ],
   "source": [
    "#maximum of 2 number\n",
    "a=int(input(\"ENter first number \"))\n",
    "b=int(input(\"enter second number\"))\n",
    "if a>b:\n",
    "    print(\"%d is greater\"%a)\n",
    "else:\n",
    "    print(f\"{b} is greater\")"
   ]
  },
  {
   "cell_type": "code",
   "execution_count": 26,
   "metadata": {},
   "outputs": [
    {
     "name": "stdout",
     "output_type": "stream",
     "text": [
      "enter number4\n",
      "24\n"
     ]
    }
   ],
   "source": [
    "# factorial of a number \n",
    "n=int(input(\"enter number\"))\n",
    "fact=1\n",
    "for i in range(1,n+1):\n",
    "    fact=fact*i\n",
    "print(fact)"
   ]
  },
  {
   "cell_type": "code",
   "execution_count": 27,
   "metadata": {},
   "outputs": [
    {
     "name": "stdout",
     "output_type": "stream",
     "text": [
      "enter principle400\n",
      "enter rate5\n",
      "time1\n",
      "20.0\n"
     ]
    }
   ],
   "source": [
    "# simple interest\n",
    "p=int(input(\"enter principle  \"))\n",
    "r=int(input(\"enter rate \"))\n",
    "t=int(input(\"time \"))\n",
    "si=(p*r*t)/100\n",
    "print(si)"
   ]
  },
  {
   "cell_type": "code",
   "execution_count": 29,
   "metadata": {},
   "outputs": [
    {
     "name": "stdout",
     "output_type": "stream",
     "text": [
      "enter principle  500\n",
      "enter rate 10\n",
      "time 2\n",
      "105.00000000000011\n"
     ]
    }
   ],
   "source": [
    "#compund interest\n",
    "p=int(input(\"enter principle  \"))\n",
    "r=int(input(\"enter rate \"))\n",
    "t=int(input(\"time \"))\n",
    "ci=p*pow((1+(r/100)),t)-p\n",
    "print(ci)"
   ]
  },
  {
   "cell_type": "code",
   "execution_count": 3,
   "metadata": {},
   "outputs": [
    {
     "name": "stdout",
     "output_type": "stream",
     "text": [
      "enter number144\n",
      "144 is not a palindrom number\n"
     ]
    }
   ],
   "source": [
    "# palindrom number\n",
    "n=int(input(\"enter number\"))\n",
    "dup=n\n",
    "rev=0\n",
    "while(n!=0):\n",
    "    r=n%10\n",
    "    rev=rev*10+r\n",
    "    n=n//10\n",
    "if rev==dup:\n",
    "    print(f\"{dup} is palindrom number\")\n",
    "else:\n",
    "    print(f\"{dup} is not a palindrom number\")"
   ]
  },
  {
   "cell_type": "code",
   "execution_count": 6,
   "metadata": {},
   "outputs": [
    {
     "name": "stdout",
     "output_type": "stream",
     "text": [
      "enter number153\n",
      "153 is armstrong number\n"
     ]
    }
   ],
   "source": [
    "#armstrong number\n",
    "n=int(input(\"enter number\"))\n",
    "dup=n\n",
    "arm=0\n",
    "while n!=0:\n",
    "    r=n%10\n",
    "    arm=arm+(r*r*r)\n",
    "    n=n//10\n",
    "if arm==dup:\n",
    "    print(f\"{dup} is armstrong number\")\n",
    "else:\n",
    "    print(f\"{dup} is not an armstrong number\")"
   ]
  },
  {
   "cell_type": "code",
   "execution_count": 8,
   "metadata": {},
   "outputs": [
    {
     "name": "stdout",
     "output_type": "stream",
     "text": [
      "enter radius4\n",
      "Area of circle =  50.24\n"
     ]
    }
   ],
   "source": [
    "#area of circle\n",
    "r=int(input(\"enter radius\"))\n",
    "print(\"Area of circle = \",(3.14*r*r))"
   ]
  },
  {
   "cell_type": "code",
   "execution_count": 9,
   "metadata": {},
   "outputs": [
    {
     "name": "stdout",
     "output_type": "stream",
     "text": [
      "enter length4\n",
      "enter breadth5\n",
      "Area of square=  20\n"
     ]
    }
   ],
   "source": [
    "#area of rectange\n",
    "l=int(input(\"enter length\"))\n",
    "b=int(input(\"enter breadth\"))\n",
    "print(\"Area of square= \",(l*b))"
   ]
  },
  {
   "cell_type": "code",
   "execution_count": 13,
   "metadata": {},
   "outputs": [
    {
     "name": "stdout",
     "output_type": "stream",
     "text": [
      "enter number4\n",
      "0 1 1 2 "
     ]
    }
   ],
   "source": [
    "#fibonocci series up to n term\n",
    "a,b,c=0,1,0\n",
    "n=int(input(\"enter number\"))\n",
    "for i in range(n):\n",
    "    print(c,end=\" \")\n",
    "    a=b\n",
    "    b=c\n",
    "    c=a+b\n",
    "    \n"
   ]
  },
  {
   "cell_type": "code",
   "execution_count": 15,
   "metadata": {},
   "outputs": [
    {
     "name": "stdout",
     "output_type": "stream",
     "text": [
      "enter number4\n",
      "2\n"
     ]
    }
   ],
   "source": [
    "#rpint nth term of fibonocci series \n",
    "a,b,c=0,1,0\n",
    "n=int(input(\"enter number\"))\n",
    "for i in range(n-1):\n",
    "    a=b\n",
    "    b=c\n",
    "    c=a+b\n",
    "print(c)"
   ]
  },
  {
   "cell_type": "code",
   "execution_count": 17,
   "metadata": {},
   "outputs": [
    {
     "name": "stdout",
     "output_type": "stream",
     "text": [
      "ENter number20\n",
      "[2, 3, 5, 7, 11, 13, 17, 19]\n"
     ]
    }
   ],
   "source": [
    "#make list of all prime number till n terms\n",
    "n=int(input(\"ENter number\"))\n",
    "l=list()\n",
    "c=0\n",
    "for i in range (2,n+1):\n",
    "    for j in range(1,i):\n",
    "        if i%j==0:\n",
    "            c=c+1\n",
    "    if c==1:\n",
    "        l.append(i)\n",
    "    c=0\n",
    "print(l)"
   ]
  },
  {
   "cell_type": "code",
   "execution_count": 23,
   "metadata": {},
   "outputs": [
    {
     "name": "stdout",
     "output_type": "stream",
     "text": [
      "4\n",
      "7\n",
      "85\n",
      "8\n",
      "448\n",
      "151\n",
      "4\n",
      "5\n",
      "45\n",
      "4\n",
      "Maximum = 448\n",
      "Minimum = 4\n"
     ]
    }
   ],
   "source": [
    "#enter 10 number and find max and min\n",
    "l=list()\n",
    "for i in range(10):\n",
    "    l.append(int(input()))\n",
    "max=l[0]\n",
    "min=l[0]\n",
    "for i in range(10):\n",
    "    if l[i]>max:\n",
    "        max=l[i]\n",
    "    if l[i]<min:\n",
    "        min=l[i]\n",
    "print(\"Maximum = %d\"%max)\n",
    "print(f\"Minimum = {min}\")"
   ]
  },
  {
   "cell_type": "code",
   "execution_count": 26,
   "metadata": {},
   "outputs": [
    {
     "name": "stdout",
     "output_type": "stream",
     "text": [
      "45\n",
      "4\n",
      "1\n",
      "14\n",
      "8\n",
      "5\n",
      "84\n",
      "8\n",
      "48\n",
      "84\n",
      "Maximum = 84\n",
      "Minimum = 1\n"
     ]
    }
   ],
   "source": [
    "#enter 10 number and find max and min\n",
    "l=list()\n",
    "for i in range(10):\n",
    "    l.append(int(input()))\n",
    "l.sort()\n",
    "max=l[9]\n",
    "min=l[0]\n",
    "print(\"Maximum = %d\"%max)\n",
    "print(f\"Minimum = {min}\")"
   ]
  },
  {
   "cell_type": "code",
   "execution_count": 6,
   "metadata": {},
   "outputs": [
    {
     "name": "stdout",
     "output_type": "stream",
     "text": [
      "enter name nk\n",
      "ENter age 45\n",
      "enter name nkk\n",
      "ENter age 74\n",
      "nk 45\n",
      "nkk 74\n"
     ]
    }
   ],
   "source": [
    "d={}\n",
    "\n",
    "for i in range(2):\n",
    "    name=input(\"enter name \")\n",
    "    age=int(input(\"ENter age \"))\n",
    "    d[name]=age\n",
    "for i,j in d.items():\n",
    "    print(f\"{i} {j}\")\n"
   ]
  },
  {
   "cell_type": "code",
   "execution_count": 14,
   "metadata": {},
   "outputs": [
    {
     "name": "stdout",
     "output_type": "stream",
     "text": [
      "lines= 5\n",
      "words= 20\n",
      "Alphabets= 76\n"
     ]
    }
   ],
   "source": [
    "#to count no.of words lines in a file\n",
    "with open(\"test.txt\") as f:\n",
    "    content=f.readlines()\n",
    "    line=len(content)\n",
    "    word=0\n",
    "    al=0\n",
    "    for i in content:\n",
    "        word=word+len(i.split())\n",
    "        for j in i.split():\n",
    "            al=al+len(j)\n",
    "    print(f\"lines= {line}\")\n",
    "    print(f\"words= {word}\")\n",
    "    print(f\"Alphabets= {al}\")"
   ]
  },
  {
   "cell_type": "code",
   "execution_count": 16,
   "metadata": {},
   "outputs": [
    {
     "name": "stdout",
     "output_type": "stream",
     "text": [
      "Enter your stringthe quick brown fox jumps over the lazy dog\n",
      "the quick brown fox jumps over the lazy dog\n"
     ]
    }
   ],
   "source": [
    "#to take input form user and write it in file\n",
    "with open(\"text.txt\",mode=\"w+\") as fl:\n",
    "    fl.write(input(\"Enter your string \"))\n",
    "    fl.seek(0)\n",
    "    print(fl.read())"
   ]
  },
  {
   "cell_type": "code",
   "execution_count": 1,
   "metadata": {},
   "outputs": [
    {
     "data": {
      "text/plain": [
       "[0, 0, 0, 0]"
      ]
     },
     "execution_count": 1,
     "metadata": {},
     "output_type": "execute_result"
    }
   ],
   "source": [
    "[0]*4"
   ]
  },
  {
   "cell_type": "code",
   "execution_count": 3,
   "metadata": {},
   "outputs": [
    {
     "name": "stdout",
     "output_type": "stream",
     "text": [
      "ENter number-1\n",
      "Negative\n"
     ]
    }
   ],
   "source": [
    "#check if a number is positive or not\n",
    "n=int(input(\"ENter number\"))\n",
    "if n>0:\n",
    "    print(\"Positive\")\n",
    "elif n==0:\n",
    "    print(\"Zero\")\n",
    "else:\n",
    "    print(\"Negative\")"
   ]
  },
  {
   "cell_type": "code",
   "execution_count": 4,
   "metadata": {},
   "outputs": [
    {
     "name": "stdout",
     "output_type": "stream",
     "text": [
      "ENter number366\n",
      "Months= 12 \tDAys= 6\n"
     ]
    }
   ],
   "source": [
    "#convert days in mont+days\n",
    "d=int(input(\"ENter number\"))\n",
    "month=d//30\n",
    "days=d-(month*30)\n",
    "print(f\"Months= {month} \\tDAys= {days}\")"
   ]
  },
  {
   "cell_type": "code",
   "execution_count": 6,
   "metadata": {},
   "outputs": [
    {
     "name": "stdout",
     "output_type": "stream",
     "text": [
      "ENter number584\n",
      "Years = 1\tMonths= 7\tDAys= 9\n"
     ]
    }
   ],
   "source": [
    "#convert days in years+month+days\n",
    "d=int(input(\"ENter number\"))\n",
    "years=d//365\n",
    "month=(d-(years*365))//30\n",
    "days=d-(years*365)-(month*30)\n",
    "print(f\"Years = {years}\\tMonths= {month}\\tDAys= {days}\")"
   ]
  },
  {
   "cell_type": "code",
   "execution_count": 19,
   "metadata": {},
   "outputs": [
    {
     "name": "stdout",
     "output_type": "stream",
     "text": [
      "ENter three number\n",
      "1\n",
      "4\n",
      "4\n",
      "-2.0\n"
     ]
    }
   ],
   "source": [
    "#solve quadratic equation\n",
    "print(\"ENter three number\")\n",
    "a=int(input())\n",
    "b=int(input())\n",
    "c=int(input())\n",
    "x=(-b-((b**2)-4*a*c)**(1/2))/2*a\n",
    "print(x)"
   ]
  },
  {
   "cell_type": "code",
   "execution_count": 20,
   "metadata": {},
   "outputs": [
    {
     "name": "stdout",
     "output_type": "stream",
     "text": [
      "Enter number and power8\n",
      "2\n",
      "64\n"
     ]
    }
   ],
   "source": [
    "#print the nth power of a number\n",
    "n=int(input(\"Enter number and power\"))\n",
    "power=int(input())\n",
    "print(n**power)"
   ]
  },
  {
   "cell_type": "code",
   "execution_count": 22,
   "metadata": {},
   "outputs": [
    {
     "name": "stdout",
     "output_type": "stream",
     "text": [
      "4\n",
      "4\n",
      "8\n",
      "7\n",
      "9\n",
      "[9, 4, 8, 7, 4]\n"
     ]
    }
   ],
   "source": [
    "#program to interchange first and last element of a list\n",
    "l=[]\n",
    "for i in range(5):\n",
    "    n=int(input())\n",
    "    l.append(n)\n",
    "temp=l[0]\n",
    "l[0]=l[4]\n",
    "l[4]=temp\n",
    "print(l)"
   ]
  },
  {
   "cell_type": "code",
   "execution_count": 25,
   "metadata": {},
   "outputs": [
    {
     "name": "stdout",
     "output_type": "stream",
     "text": [
      "70\n",
      "48\n",
      "5\n",
      "4\n",
      "1\n",
      "48\n"
     ]
    }
   ],
   "source": [
    "#print second largest number\n",
    "l=[]\n",
    "for i in range(5):\n",
    "    l.append(int(input()))\n",
    "max=l[0]\n",
    "smax=0\n",
    "for i in l:\n",
    "    if max<i:\n",
    "        max=i\n",
    "for i in l:\n",
    "    if smax<i and i<max:\n",
    "        smax=i\n",
    "print(smax)"
   ]
  },
  {
   "cell_type": "code",
   "execution_count": 26,
   "metadata": {},
   "outputs": [
    {
     "name": "stdout",
     "output_type": "stream",
     "text": [
      "[2, 4, 6, 8, 10, 12, 14, 16, 18, 20, 22, 24]\n"
     ]
    }
   ],
   "source": [
    "#make list of all even number in a range\n",
    "l=[]\n",
    "for i in range(1,25):\n",
    "    if i%2==0:\n",
    "        l.append(i)\n",
    "print(l)"
   ]
  },
  {
   "cell_type": "code",
   "execution_count": 27,
   "metadata": {},
   "outputs": [
    {
     "name": "stdout",
     "output_type": "stream",
     "text": [
      "[1, 3, 5, 7, 9, 11, 13, 15, 17, 19, 21, 23]\n"
     ]
    }
   ],
   "source": [
    "#make list of all odd number in a range\n",
    "l=[]\n",
    "for i in range(1,25):\n",
    "    if i%2!=0:\n",
    "        l.append(i)\n",
    "print(l)"
   ]
  },
  {
   "cell_type": "code",
   "execution_count": 32,
   "metadata": {},
   "outputs": [
    {
     "name": "stdout",
     "output_type": "stream",
     "text": [
      "Enter size of list10\n",
      "[1, 2, 3, 4, 5, 6, 7, 8, 9, 10]\n",
      "[11, 12, 13, 14, 15, 16, 17, 18, 19, 20]\n",
      "[21, 22, 23, 24, 25, 26, 27, 28, 29, 30]\n",
      "[31, 32, 33, 34, 35, 36, 37, 38, 39, 40]\n",
      "[41, 42, 43, 44, 45, 46, 47, 48, 49, 50]\n",
      "[51, 52, 53, 54, 55, 56, 57, 58, 59, 60]\n",
      "[61, 62, 63, 64, 65, 66, 67, 68, 69, 70]\n",
      "[71, 72, 73, 74, 75, 76, 77, 78, 79, 80]\n",
      "[81, 82, 83, 84, 85]\n"
     ]
    }
   ],
   "source": [
    "x=list(range(1,86))\n",
    "n=int(input(\"Enter size of list\"))\n",
    "i=len(x)//n\n",
    "for j in range(0,i):\n",
    "    l=x[(j*n):(n*(j+1))]\n",
    "    print(l)\n",
    "\n",
    "if i*n==len(x):\n",
    "    pass\n",
    "else:\n",
    "    l=x[i*n:len(x)+1]\n",
    "    print(l)"
   ]
  },
  {
   "cell_type": "code",
   "execution_count": 38,
   "metadata": {},
   "outputs": [
    {
     "name": "stdout",
     "output_type": "stream",
     "text": [
      "Enter number to delete4\n",
      "1,5,7,3,8,9,3,"
     ]
    }
   ],
   "source": [
    "#to remove item from a list\n",
    "l=[1,5,7,3,8,9,3,4]\n",
    "n=int(input(\"Enter number to delete\"))\n",
    "for i in range(len(l)):\n",
    "    if l[i]==n:\n",
    "        for j in range(i+1,len(l)):\n",
    "            l[j-1]=l[j]\n",
    "for i in range(len(l)-1):\n",
    "    print(l[i],end=\",\")\n"
   ]
  },
  {
   "cell_type": "code",
   "execution_count": 40,
   "metadata": {},
   "outputs": [
    {
     "name": "stdout",
     "output_type": "stream",
     "text": [
      "ENter number6\n",
      "6 occurs 2 times\n"
     ]
    }
   ],
   "source": [
    "#to count occurenge of a number in list\n",
    "l=[1,3,4,5,6,6,4,3,42,4,76,88,3,3,456,7,8,9]\n",
    "n=int(input(\"ENter number\"))\n",
    "c=0\n",
    "for i in l:\n",
    "    if n==i:\n",
    "        c+=1\n",
    "print(f\"{n} occurs {c} times\")"
   ]
  },
  {
   "cell_type": "code",
   "execution_count": 60,
   "metadata": {},
   "outputs": [
    {
     "name": "stdout",
     "output_type": "stream",
     "text": [
      "(1, 1)\n",
      "(3, 4)\n",
      "(4, 6)\n",
      "(5, 5)\n",
      "(7, 5)\n",
      "(45, 1)\n",
      "(6, 3)\n",
      "(87, 1)\n",
      "(2, 1)\n",
      "(8, 1)\n",
      "(322, 1)\n"
     ]
    }
   ],
   "source": [
    "#frequncy of each number in list:\n",
    "l=[1,3,4,5,7,7,5,4,3,45,6,7,87,6,5,4,3,2,3,4,5,6,7,8,7,5,4,4,322]\n",
    "f=[]\n",
    "fc=[]\n",
    "c=0\n",
    "ch=0\n",
    "for i in l:\n",
    "    c=0\n",
    "    ch=0\n",
    "    for x in f:\n",
    "        if x==i:\n",
    "            ch+=1\n",
    "    if ch==0:\n",
    "        f.append(i)\n",
    "        for j in l:\n",
    "            if j==i:\n",
    "                c+=1\n",
    "        fc.append(c)\n",
    "for i in range(len(f)):\n",
    "    print(f\"{f[i], fc[i]}\")\n",
    "    \n",
    "    \n",
    "    "
   ]
  },
  {
   "cell_type": "code",
   "execution_count": 55,
   "metadata": {},
   "outputs": [
    {
     "name": "stdout",
     "output_type": "stream",
     "text": [
      "(1, 1)\n",
      "(3, 4)\n",
      "(4, 6)\n",
      "(5, 5)\n",
      "(7, 5)\n",
      "(45, 1)\n",
      "(6, 3)\n",
      "(87, 1)\n",
      "(2, 1)\n",
      "(8, 1)\n",
      "(322, 1)\n"
     ]
    }
   ],
   "source": [
    "#frequncy of each number in list:\n",
    "l=[1,3,4,5,7,7,5,4,3,45,6,7,87,6,5,4,3,2,3,4,5,6,7,8,7,5,4,4,322]\n",
    "f=[]\n",
    "fc=[]\n",
    "for i in l:\n",
    "   if i not in f:\n",
    "    f.append(i)\n",
    "    fc.append(l.count(i))\n",
    "for i in zip(f,fc):\n",
    "    print(i)\n",
    "    \n",
    "    "
   ]
  },
  {
   "cell_type": "code",
   "execution_count": 64,
   "metadata": {},
   "outputs": [
    {
     "name": "stdout",
     "output_type": "stream",
     "text": [
      "Palindrome string\n"
     ]
    }
   ],
   "source": [
    "#to check if astring is palindrome\n",
    "s=\"dad\"\n",
    "r=s[::-1]\n",
    "if s==r:\n",
    "    print(\"Palindrome string\")"
   ]
  },
  {
   "cell_type": "code",
   "execution_count": 66,
   "metadata": {},
   "outputs": [
    {
     "name": "stdout",
     "output_type": "stream",
     "text": [
      "Enter stringthe quick\n",
      "not palindrome\n"
     ]
    }
   ],
   "source": [
    "#to check if astring is palindrome\n",
    "s=input(\"Enter string\")\n",
    "r=s[::-1]\n",
    "if s==r:\n",
    "    print(\"Palindrome string\")\n",
    "else:\n",
    "    print(\"not palindrome\")\n",
    "        "
   ]
  },
  {
   "cell_type": "code",
   "execution_count": 78,
   "metadata": {},
   "outputs": [
    {
     "name": "stdout",
     "output_type": "stream",
     "text": [
      "enter string the quick brown\n",
      "brown quick the\n"
     ]
    }
   ],
   "source": [
    "#reverse a string\n",
    "s=input(\"enter string \")\n",
    "l=s.split()\n",
    "l.reverse()\n",
    "ss=\" \".join(l)\n",
    "print(ss)\n",
    "\n"
   ]
  },
  {
   "cell_type": "code",
   "execution_count": 80,
   "metadata": {},
   "outputs": [
    {
     "name": "stdout",
     "output_type": "stream",
     "text": [
      "Enter stringthe quick brown fox\n",
      "ENter letter to deleteo\n",
      "the quick brwn fx"
     ]
    }
   ],
   "source": [
    "#remove a letter from a string\n",
    "s=input(\"Enter string\")\n",
    "n=input(\"ENter letter to delete\")\n",
    "for i in s:\n",
    "    if i==n:\n",
    "        continue\n",
    "    else:\n",
    "        print(i,end=\"\")\n"
   ]
  },
  {
   "cell_type": "code",
   "execution_count": 84,
   "metadata": {},
   "outputs": [
    {
     "name": "stdout",
     "output_type": "stream",
     "text": [
      "Enter stringthe quickb rown fox\n",
      "ENter letter to deleteo\n",
      "the quickb rwn fx\n"
     ]
    }
   ],
   "source": [
    "#remove a letter from a string\n",
    "s=input(\"Enter string\")\n",
    "n=input(\"ENter letter to delete\")\n",
    "l=s.split(n)\n",
    "\n",
    "ns=\"\".join(l)\n",
    "print(ns)"
   ]
  },
  {
   "cell_type": "code",
   "execution_count": 85,
   "metadata": {},
   "outputs": [
    {
     "name": "stdout",
     "output_type": "stream",
     "text": [
      "Enter stringthe quick brown fox\n",
      "ENter word to deletequick\n",
      "the  brown fox\n"
     ]
    }
   ],
   "source": [
    "#to remove a word from a string\n",
    "s=input(\"Enter string\")\n",
    "n=input(\"ENter word to delete\")\n",
    "l=s.split(n)\n",
    "ns=\"\".join(l)\n",
    "print(ns)"
   ]
  },
  {
   "cell_type": "code",
   "execution_count": 92,
   "metadata": {},
   "outputs": [
    {
     "name": "stdout",
     "output_type": "stream",
     "text": [
      "Enter stringthe quick brown fox\n",
      "ENter word to deletefox\n",
      "the quick brown "
     ]
    }
   ],
   "source": [
    "#to remove a word from a string\n",
    "s=input(\"Enter string\")\n",
    "n=input(\"ENter word to delete\")\n",
    "w=\"\"\n",
    "for i in s:\n",
    "    if i==\" \":\n",
    "        if w!=n:\n",
    "            print(w,end=\" \")\n",
    "        w=\"\"\n",
    "    else:\n",
    "        w=w+i\n",
    "if w!=n:\n",
    "    print(w)"
   ]
  },
  {
   "cell_type": "code",
   "execution_count": 1,
   "metadata": {},
   "outputs": [
    {
     "name": "stdout",
     "output_type": "stream",
     "text": [
      "Enter stringthe quick brown fox\n",
      "ENter word to searchfox\n",
      "found\n"
     ]
    }
   ],
   "source": [
    "#to search a word from a string\n",
    "s=input(\"Enter string\")\n",
    "n=input(\"ENter word to search\")\n",
    "w=\"\"\n",
    "for i in s:\n",
    "    if i==\" \":\n",
    "        if w==n:\n",
    "            print(\"found\")\n",
    "        w=\"\"\n",
    "    else:\n",
    "        w=w+i\n",
    "if w==n:\n",
    "    print(\"found\")"
   ]
  },
  {
   "cell_type": "code",
   "execution_count": 2,
   "metadata": {},
   "outputs": [
    {
     "name": "stdout",
     "output_type": "stream",
     "text": [
      "Side = 36\n"
     ]
    }
   ],
   "source": [
    "#find lenght of a string\n",
    "s=\"the quick brown fox jumps over the \"\n",
    "c=0\n",
    "for i in s:\n",
    "    c+=1\n",
    "print(\"Side =\",(c+1))"
   ]
  },
  {
   "cell_type": "code",
   "execution_count": 8,
   "metadata": {},
   "outputs": [
    {
     "name": "stdout",
     "output_type": "stream",
     "text": [
      "e - 3\n"
     ]
    }
   ],
   "source": [
    "#to find the most frequent character\n",
    "s=\"the quick brown fox jumps over the\"\n",
    "ch=\"\"\n",
    "c=0\n",
    "max=0\n",
    "for i in range(97,123):\n",
    "    c=0\n",
    "    for j in s:\n",
    "        if chr(i)==j:\n",
    "            c+=1\n",
    "    if c>max:\n",
    "        max=c\n",
    "        ch=chr(i)\n",
    "print(f\"{ch} - {max}\")"
   ]
  },
  {
   "cell_type": "code",
   "execution_count": 9,
   "metadata": {},
   "outputs": [
    {
     "name": "stdout",
     "output_type": "stream",
     "text": [
      "e - 3\n"
     ]
    }
   ],
   "source": [
    "#to find the most frequent character\n",
    "s=\"the quick brown fox jumps over the\"\n",
    "ch=\"\"\n",
    "c=0\n",
    "max=0\n",
    "for i in range(97,123):\n",
    "    c=0\n",
    "    c=s.count(chr(i))\n",
    "    if c>max:\n",
    "        max=c\n",
    "        ch=chr(i)\n",
    "print(f\"{ch} - {max}\")"
   ]
  },
  {
   "cell_type": "code",
   "execution_count": 11,
   "metadata": {},
   "outputs": [
    {
     "name": "stdout",
     "output_type": "stream",
     "text": [
      "the character not present in 2nd string are\n",
      "q i c k b w n "
     ]
    }
   ],
   "source": [
    "s=\"the quick brown\"\n",
    "s1=\"fox jumps over the lazy dog\"\n",
    "print(\"the character not present in 2nd string are\")\n",
    "for i in s:\n",
    "    c=0\n",
    "    for j in s1:\n",
    "        if i==j:\n",
    "            c+=1\n",
    "    if c==0:\n",
    "        print(i,end=\" \")"
   ]
  },
  {
   "cell_type": "code",
   "execution_count": 12,
   "metadata": {},
   "outputs": [
    {
     "name": "stdout",
     "output_type": "stream",
     "text": [
      "the character not present in 1st string are\n",
      "f x j m p s v l a z y d g "
     ]
    }
   ],
   "source": [
    "print(\"the character not present in 1st string are\")\n",
    "for i in s1:\n",
    "    c=0\n",
    "    for j in s:\n",
    "        if i==j:\n",
    "            c+=1\n",
    "    if c==0:\n",
    "        print(i,end=\" \")"
   ]
  },
  {
   "cell_type": "code",
   "execution_count": 15,
   "metadata": {},
   "outputs": [
    {
     "name": "stdout",
     "output_type": "stream",
     "text": [
      "the quick brown f*x j*mps *v** ***"
     ]
    }
   ],
   "source": [
    "#to replace multiple  character with *\n",
    "s=\"the quick brown fox jumps over the\"\n",
    "c=0\n",
    "l=[]\n",
    "for i in s:\n",
    "    c=0\n",
    "    for j in l:\n",
    "        if i==j and not i.isspace():\n",
    "            c=c+1\n",
    "    if c==0:\n",
    "        print(i,end=\"\")\n",
    "        l.append(i)\n",
    "    else:\n",
    "        print(\"*\",end=\"\")\n",
    "\n"
   ]
  },
  {
   "cell_type": "raw",
   "metadata": {},
   "source": [
    "1\n",
    "12\n",
    "123\n",
    "1234\n",
    "12345"
   ]
  },
  {
   "cell_type": "code",
   "execution_count": 17,
   "metadata": {},
   "outputs": [
    {
     "name": "stdout",
     "output_type": "stream",
     "text": [
      "1\n",
      "12\n",
      "123\n",
      "1234\n",
      "12345\n"
     ]
    }
   ],
   "source": [
    "for i in range(1,6):\n",
    "    for j in range(1,i+1):\n",
    "        print(j,end=\"\")\n",
    "    print()"
   ]
  },
  {
   "cell_type": "code",
   "execution_count": 19,
   "metadata": {},
   "outputs": [
    {
     "name": "stdout",
     "output_type": "stream",
     "text": [
      "8\n"
     ]
    }
   ],
   "source": [
    "#find size of a tuple:\n",
    "t=(1,5,4,7,8,5,9,4)\n",
    "c=0\n",
    "for i in t:\n",
    "    c=c+1\n",
    "print(c)"
   ]
  },
  {
   "cell_type": "code",
   "execution_count": 24,
   "metadata": {},
   "outputs": [
    {
     "name": "stdout",
     "output_type": "stream",
     "text": [
      "enter key to print its valuegk\n",
      "48\n"
     ]
    }
   ],
   "source": [
    "#print value of a key\n",
    "d={\"Nk\":48,\"Pk\":47,\"dk\":95,\"mk\":42,\"gk\":48}\n",
    "s=input(\"enter key to print its value\")\n",
    "if not s in d:\n",
    "    print(\"Not in dictionary\")\n",
    "else:\n",
    "    print(d[s])\n",
    "    "
   ]
  },
  {
   "cell_type": "code",
   "execution_count": 25,
   "metadata": {},
   "outputs": [
    {
     "name": "stdout",
     "output_type": "stream",
     "text": [
      "Enter value 48\n",
      "Nk\n",
      "gk\n"
     ]
    }
   ],
   "source": [
    "#to search from value and print its key\n",
    "v=int(input(\"Enter value \"))\n",
    "for i,j in d.items():\n",
    "    if j==v:\n",
    "        print(i)"
   ]
  },
  {
   "cell_type": "code",
   "execution_count": 26,
   "metadata": {},
   "outputs": [
    {
     "name": "stdout",
     "output_type": "stream",
     "text": [
      "{1, 2, 3, 4, 5, 6, 54, 56}\n"
     ]
    }
   ],
   "source": [
    "#to remove all duplicate values from the list:\n",
    "l=[1,2,3,4,4,3,2,4,56,6,6,54,3,3,2,5,2,3]\n",
    "s=set(l)\n",
    "print(s)"
   ]
  },
  {
   "cell_type": "code",
   "execution_count": 34,
   "metadata": {},
   "outputs": [
    {
     "name": "stdout",
     "output_type": "stream",
     "text": [
      "ENter name to deleteNk\n",
      "{'Pk': 47, 'dk': 95, 'mk': 42, 'gk': 48}\n"
     ]
    }
   ],
   "source": [
    "#to delete akey value pair in dict\n",
    "d={\"Nk\":48,\"Pk\":47,\"dk\":95,\"mk\":42,\"gk\":48}\n",
    "k=input(\"ENter name to delete\")\n",
    "if k in d:\n",
    "    del d[k]\n",
    "    print(d)\n",
    "else:\n",
    "    print(\"Name not found\")"
   ]
  },
  {
   "cell_type": "code",
   "execution_count": null,
   "metadata": {},
   "outputs": [],
   "source": []
  }
 ],
 "metadata": {
  "kernelspec": {
   "display_name": "Python 3",
   "language": "python",
   "name": "python3"
  },
  "language_info": {
   "codemirror_mode": {
    "name": "ipython",
    "version": 3
   },
   "file_extension": ".py",
   "mimetype": "text/x-python",
   "name": "python",
   "nbconvert_exporter": "python",
   "pygments_lexer": "ipython3",
   "version": "3.7.9"
  }
 },
 "nbformat": 4,
 "nbformat_minor": 4
}
