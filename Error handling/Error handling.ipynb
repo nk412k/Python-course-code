{
 "cells": [
  {
   "cell_type": "code",
   "execution_count": 1,
   "metadata": {},
   "outputs": [
    {
     "name": "stdout",
     "output_type": "stream",
     "text": [
      "Enter a numberd\n"
     ]
    },
    {
     "ename": "ValueError",
     "evalue": "invalid literal for int() with base 10: 'd'",
     "output_type": "error",
     "traceback": [
      "\u001b[1;31m---------------------------------------------------------------------------\u001b[0m",
      "\u001b[1;31mValueError\u001b[0m                                Traceback (most recent call last)",
      "\u001b[1;32m<ipython-input-1-8e07a5ece2d1>\u001b[0m in \u001b[0;36m<module>\u001b[1;34m\u001b[0m\n\u001b[1;32m----> 1\u001b[1;33m \u001b[0ms\u001b[0m\u001b[1;33m=\u001b[0m\u001b[0mint\u001b[0m\u001b[1;33m(\u001b[0m\u001b[0minput\u001b[0m\u001b[1;33m(\u001b[0m\u001b[1;34m\"Enter a number\"\u001b[0m\u001b[1;33m)\u001b[0m\u001b[1;33m)\u001b[0m\u001b[1;33m\u001b[0m\u001b[1;33m\u001b[0m\u001b[0m\n\u001b[0m\u001b[0;32m      2\u001b[0m \u001b[0mprint\u001b[0m\u001b[1;33m(\u001b[0m\u001b[1;34m\"Number taken successfully\"\u001b[0m\u001b[1;33m)\u001b[0m\u001b[1;33m\u001b[0m\u001b[1;33m\u001b[0m\u001b[0m\n",
      "\u001b[1;31mValueError\u001b[0m: invalid literal for int() with base 10: 'd'"
     ]
    }
   ],
   "source": [
    "s=int(input(\"Enter a number\"))\n",
    "print(\"Number taken successfully\")"
   ]
  },
  {
   "cell_type": "code",
   "execution_count": 2,
   "metadata": {},
   "outputs": [
    {
     "name": "stdout",
     "output_type": "stream",
     "text": [
      "Enter a numberd\n",
      "input is not a number\n"
     ]
    }
   ],
   "source": [
    "try:\n",
    "    s=int(input(\"Enter a number\"))\n",
    "except:\n",
    "    print(\"input is not a number\")"
   ]
  },
  {
   "cell_type": "code",
   "execution_count": 4,
   "metadata": {},
   "outputs": [
    {
     "name": "stdout",
     "output_type": "stream",
     "text": [
      "Enter a number5\n",
      "Input is successful\n"
     ]
    }
   ],
   "source": [
    "try:\n",
    "    s=int(input(\"Enter a number\"))\n",
    "except:\n",
    "    print(\"input is not a number\")\n",
    "else:\n",
    "    print(\"Input is successful\")"
   ]
  },
  {
   "cell_type": "code",
   "execution_count": 5,
   "metadata": {},
   "outputs": [
    {
     "name": "stdout",
     "output_type": "stream",
     "text": [
      "Enter a numberd\n",
      "input is not a number\n",
      "End of program\n"
     ]
    }
   ],
   "source": [
    "try:\n",
    "    s=int(input(\"Enter a number\"))\n",
    "except:\n",
    "    print(\"input is not a number\")\n",
    "else:\n",
    "    print(\"Input is successful\")\n",
    "finally:\n",
    "    print(\"End of program\")"
   ]
  },
  {
   "cell_type": "code",
   "execution_count": 7,
   "metadata": {},
   "outputs": [
    {
     "data": {
      "text/plain": [
       "19"
      ]
     },
     "execution_count": 7,
     "metadata": {},
     "output_type": "execute_result"
    }
   ],
   "source": [
    "f=open(\"text.txt\",mode='w')\n",
    "f.write(\"THe quick brown fox\")"
   ]
  },
  {
   "cell_type": "code",
   "execution_count": 8,
   "metadata": {},
   "outputs": [
    {
     "name": "stdout",
     "output_type": "stream",
     "text": [
      "wrong mode\n"
     ]
    }
   ],
   "source": [
    "try:\n",
    "    f=open(\"text.txt\",mode='r')\n",
    "    f.write(\"THe quick brown fox\")\n",
    "except OSError:\n",
    "    print(\"wrong mode\")\n",
    "except:\n",
    "    print(\"FIle not found\")"
   ]
  },
  {
   "cell_type": "code",
   "execution_count": 12,
   "metadata": {},
   "outputs": [
    {
     "name": "stdout",
     "output_type": "stream",
     "text": [
      "Enter a numberf\n",
      "Not a number\n",
      "Enter a numberd\n",
      "Not a number\n",
      "Enter a number6\n",
      "that's a number great\n",
      "6\n"
     ]
    }
   ],
   "source": [
    "while(True):\n",
    "    try:\n",
    "        n=int(input(\"Enter a number\"))\n",
    "    except:\n",
    "        print(\"Not a number\")\n",
    "        continue\n",
    "    else:\n",
    "        print(\"that's a number great\")\n",
    "        break\n",
    "print(n)"
   ]
  },
  {
   "cell_type": "code",
   "execution_count": null,
   "metadata": {},
   "outputs": [],
   "source": []
  }
 ],
 "metadata": {
  "kernelspec": {
   "display_name": "Python 3",
   "language": "python",
   "name": "python3"
  },
  "language_info": {
   "codemirror_mode": {
    "name": "ipython",
    "version": 3
   },
   "file_extension": ".py",
   "mimetype": "text/x-python",
   "name": "python",
   "nbconvert_exporter": "python",
   "pygments_lexer": "ipython3",
   "version": "3.7.9"
  }
 },
 "nbformat": 4,
 "nbformat_minor": 4
}
