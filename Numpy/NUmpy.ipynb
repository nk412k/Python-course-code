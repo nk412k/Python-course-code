{
 "cells": [
  {
   "cell_type": "code",
   "execution_count": 1,
   "id": "0a6fe536",
   "metadata": {},
   "outputs": [],
   "source": [
    "import numpy as np"
   ]
  },
  {
   "cell_type": "code",
   "execution_count": 2,
   "id": "f6128ed5",
   "metadata": {},
   "outputs": [],
   "source": [
    "mylist=[1,2,3,4,5]"
   ]
  },
  {
   "cell_type": "code",
   "execution_count": 3,
   "id": "6cd034b4",
   "metadata": {},
   "outputs": [],
   "source": [
    "myarray=np.array(mylist)"
   ]
  },
  {
   "cell_type": "code",
   "execution_count": 4,
   "id": "3b11f265",
   "metadata": {},
   "outputs": [
    {
     "data": {
      "text/plain": [
       "array([1, 2, 3, 4, 5])"
      ]
     },
     "execution_count": 4,
     "metadata": {},
     "output_type": "execute_result"
    }
   ],
   "source": [
    "myarray"
   ]
  },
  {
   "cell_type": "code",
   "execution_count": 5,
   "id": "4cefedc6",
   "metadata": {},
   "outputs": [],
   "source": [
    "myarr=np.array([[1,2,3],[4,5,6]])"
   ]
  },
  {
   "cell_type": "code",
   "execution_count": 6,
   "id": "c1aa46e9",
   "metadata": {},
   "outputs": [
    {
     "data": {
      "text/plain": [
       "array([[1, 2, 3],\n",
       "       [4, 5, 6]])"
      ]
     },
     "execution_count": 6,
     "metadata": {},
     "output_type": "execute_result"
    }
   ],
   "source": [
    "myarr"
   ]
  },
  {
   "cell_type": "code",
   "execution_count": 7,
   "id": "b748e481",
   "metadata": {},
   "outputs": [
    {
     "data": {
      "text/plain": [
       "(2, 3)"
      ]
     },
     "execution_count": 7,
     "metadata": {},
     "output_type": "execute_result"
    }
   ],
   "source": [
    "myarr.shape"
   ]
  },
  {
   "cell_type": "code",
   "execution_count": 8,
   "id": "2d3e6ac1",
   "metadata": {},
   "outputs": [
    {
     "data": {
      "text/plain": [
       "dtype('int32')"
      ]
     },
     "execution_count": 8,
     "metadata": {},
     "output_type": "execute_result"
    }
   ],
   "source": [
    "myarr.dtype"
   ]
  },
  {
   "cell_type": "code",
   "execution_count": 9,
   "id": "1ef92ced",
   "metadata": {},
   "outputs": [
    {
     "data": {
      "text/plain": [
       "4"
      ]
     },
     "execution_count": 9,
     "metadata": {},
     "output_type": "execute_result"
    }
   ],
   "source": [
    "myarr.itemsize"
   ]
  },
  {
   "cell_type": "code",
   "execution_count": 10,
   "id": "3e58daec",
   "metadata": {},
   "outputs": [
    {
     "data": {
      "text/plain": [
       "6"
      ]
     },
     "execution_count": 10,
     "metadata": {},
     "output_type": "execute_result"
    }
   ],
   "source": [
    "myarr.size"
   ]
  },
  {
   "cell_type": "code",
   "execution_count": 11,
   "id": "d5e09f8e",
   "metadata": {},
   "outputs": [],
   "source": [
    "myarr.shape=(3,2)"
   ]
  },
  {
   "cell_type": "code",
   "execution_count": 12,
   "id": "2f519c61",
   "metadata": {},
   "outputs": [
    {
     "data": {
      "text/plain": [
       "array([[1, 2],\n",
       "       [3, 4],\n",
       "       [5, 6]])"
      ]
     },
     "execution_count": 12,
     "metadata": {},
     "output_type": "execute_result"
    }
   ],
   "source": [
    "myarr"
   ]
  },
  {
   "cell_type": "code",
   "execution_count": 13,
   "id": "29f16fb8",
   "metadata": {},
   "outputs": [
    {
     "data": {
      "text/plain": [
       "array([[1, 2, 3],\n",
       "       [4, 5, 6]])"
      ]
     },
     "execution_count": 13,
     "metadata": {},
     "output_type": "execute_result"
    }
   ],
   "source": [
    "myarr.reshape(2,3)"
   ]
  },
  {
   "cell_type": "code",
   "execution_count": 14,
   "id": "c09b869a",
   "metadata": {},
   "outputs": [
    {
     "data": {
      "text/plain": [
       "array([[1, 2],\n",
       "       [3, 4],\n",
       "       [5, 6]])"
      ]
     },
     "execution_count": 14,
     "metadata": {},
     "output_type": "execute_result"
    }
   ],
   "source": [
    "myarr"
   ]
  },
  {
   "cell_type": "code",
   "execution_count": 15,
   "id": "44a89559",
   "metadata": {},
   "outputs": [],
   "source": [
    "myarr2=np.resize(myarr,(3,3))"
   ]
  },
  {
   "cell_type": "code",
   "execution_count": 16,
   "id": "7a0907cc",
   "metadata": {},
   "outputs": [
    {
     "data": {
      "text/plain": [
       "array([[1, 2, 3],\n",
       "       [4, 5, 6],\n",
       "       [1, 2, 3]])"
      ]
     },
     "execution_count": 16,
     "metadata": {},
     "output_type": "execute_result"
    }
   ],
   "source": [
    "myarr2"
   ]
  },
  {
   "cell_type": "code",
   "execution_count": 19,
   "id": "4634e52b",
   "metadata": {},
   "outputs": [
    {
     "data": {
      "text/plain": [
       "array([0., 0., 0., 0., 0.])"
      ]
     },
     "execution_count": 19,
     "metadata": {},
     "output_type": "execute_result"
    }
   ],
   "source": [
    "np.zeros(5)"
   ]
  },
  {
   "cell_type": "code",
   "execution_count": 20,
   "id": "6295700c",
   "metadata": {},
   "outputs": [
    {
     "data": {
      "text/plain": [
       "array([[1., 0., 0., 0., 0.],\n",
       "       [0., 1., 0., 0., 0.],\n",
       "       [0., 0., 1., 0., 0.],\n",
       "       [0., 0., 0., 1., 0.],\n",
       "       [0., 0., 0., 0., 1.]])"
      ]
     },
     "execution_count": 20,
     "metadata": {},
     "output_type": "execute_result"
    }
   ],
   "source": [
    "np.eye(5)"
   ]
  },
  {
   "cell_type": "code",
   "execution_count": 22,
   "id": "e3cd4b64",
   "metadata": {},
   "outputs": [
    {
     "data": {
      "text/plain": [
       "array([[1., 1., 1., 1., 1.],\n",
       "       [1., 1., 1., 1., 1.],\n",
       "       [1., 1., 1., 1., 1.],\n",
       "       [1., 1., 1., 1., 1.],\n",
       "       [1., 1., 1., 1., 1.]])"
      ]
     },
     "execution_count": 22,
     "metadata": {},
     "output_type": "execute_result"
    }
   ],
   "source": [
    "np.ones([5,5])"
   ]
  },
  {
   "cell_type": "code",
   "execution_count": 31,
   "id": "b48cc219",
   "metadata": {},
   "outputs": [],
   "source": [
    "myarr3=np.arange(10)"
   ]
  },
  {
   "cell_type": "code",
   "execution_count": 32,
   "id": "230c76e1",
   "metadata": {},
   "outputs": [
    {
     "data": {
      "text/plain": [
       "array([0, 1, 2, 3, 4, 5, 6, 7, 8, 9])"
      ]
     },
     "execution_count": 32,
     "metadata": {},
     "output_type": "execute_result"
    }
   ],
   "source": [
    "myarr3"
   ]
  },
  {
   "cell_type": "code",
   "execution_count": 25,
   "id": "8c96f926",
   "metadata": {},
   "outputs": [],
   "source": [
    "myarr3=np.linspace(10,20,5)"
   ]
  },
  {
   "cell_type": "code",
   "execution_count": 26,
   "id": "77c1bb29",
   "metadata": {},
   "outputs": [
    {
     "data": {
      "text/plain": [
       "array([10. , 12.5, 15. , 17.5, 20. ])"
      ]
     },
     "execution_count": 26,
     "metadata": {},
     "output_type": "execute_result"
    }
   ],
   "source": [
    "myarr3"
   ]
  },
  {
   "cell_type": "code",
   "execution_count": 33,
   "id": "d4ca9684",
   "metadata": {},
   "outputs": [],
   "source": [
    "myarr3.shape=(2,5)"
   ]
  },
  {
   "cell_type": "code",
   "execution_count": 34,
   "id": "5ca648fc",
   "metadata": {},
   "outputs": [
    {
     "data": {
      "text/plain": [
       "array([[ 0,  1,  4,  9, 16],\n",
       "       [25, 36, 49, 64, 81]])"
      ]
     },
     "execution_count": 34,
     "metadata": {},
     "output_type": "execute_result"
    }
   ],
   "source": [
    "myarr3*myarr3"
   ]
  },
  {
   "cell_type": "code",
   "execution_count": 35,
   "id": "6a4eb484",
   "metadata": {},
   "outputs": [
    {
     "data": {
      "text/plain": [
       "array([[0, 0],\n",
       "       [0, 0],\n",
       "       [0, 0]])"
      ]
     },
     "execution_count": 35,
     "metadata": {},
     "output_type": "execute_result"
    }
   ],
   "source": [
    "myarr-myarr"
   ]
  },
  {
   "cell_type": "code",
   "execution_count": 36,
   "id": "2306d315",
   "metadata": {},
   "outputs": [
    {
     "data": {
      "text/plain": [
       "array([[ 2,  4],\n",
       "       [ 6,  8],\n",
       "       [10, 12]])"
      ]
     },
     "execution_count": 36,
     "metadata": {},
     "output_type": "execute_result"
    }
   ],
   "source": [
    "myarr+myarr"
   ]
  },
  {
   "cell_type": "code",
   "execution_count": 37,
   "id": "c99ed5f9",
   "metadata": {},
   "outputs": [
    {
     "data": {
      "text/plain": [
       "array([[0.5, 1. ],\n",
       "       [1.5, 2. ],\n",
       "       [2.5, 3. ]])"
      ]
     },
     "execution_count": 37,
     "metadata": {},
     "output_type": "execute_result"
    }
   ],
   "source": [
    "myarr/2"
   ]
  },
  {
   "cell_type": "code",
   "execution_count": 38,
   "id": "afbd3961",
   "metadata": {},
   "outputs": [
    {
     "data": {
      "text/plain": [
       "array([[1, 2],\n",
       "       [3, 4],\n",
       "       [5, 6]])"
      ]
     },
     "execution_count": 38,
     "metadata": {},
     "output_type": "execute_result"
    }
   ],
   "source": [
    "myarr"
   ]
  },
  {
   "cell_type": "code",
   "execution_count": 39,
   "id": "4b92573e",
   "metadata": {},
   "outputs": [
    {
     "data": {
      "text/plain": [
       "21"
      ]
     },
     "execution_count": 39,
     "metadata": {},
     "output_type": "execute_result"
    }
   ],
   "source": [
    "myarr.sum()"
   ]
  },
  {
   "cell_type": "code",
   "execution_count": 40,
   "id": "513e2ece",
   "metadata": {},
   "outputs": [
    {
     "data": {
      "text/plain": [
       "21"
      ]
     },
     "execution_count": 40,
     "metadata": {},
     "output_type": "execute_result"
    }
   ],
   "source": [
    "np.sum(myarr)"
   ]
  },
  {
   "cell_type": "code",
   "execution_count": 41,
   "id": "6d272a44",
   "metadata": {},
   "outputs": [
    {
     "data": {
      "text/plain": [
       "array([ 9, 12])"
      ]
     },
     "execution_count": 41,
     "metadata": {},
     "output_type": "execute_result"
    }
   ],
   "source": [
    "np.sum(myarr,0)"
   ]
  },
  {
   "cell_type": "code",
   "execution_count": 42,
   "id": "e3d149f7",
   "metadata": {},
   "outputs": [
    {
     "data": {
      "text/plain": [
       "array([ 3,  7, 11])"
      ]
     },
     "execution_count": 42,
     "metadata": {},
     "output_type": "execute_result"
    }
   ],
   "source": [
    "np.sum(myarr,1)"
   ]
  },
  {
   "cell_type": "code",
   "execution_count": 45,
   "id": "0a9dfae9",
   "metadata": {},
   "outputs": [
    {
     "data": {
      "text/plain": [
       "array([[1., 1.],\n",
       "       [1., 1.],\n",
       "       [1., 1.]])"
      ]
     },
     "execution_count": 45,
     "metadata": {},
     "output_type": "execute_result"
    }
   ],
   "source": [
    "np.divide(myarr,myarr)"
   ]
  },
  {
   "cell_type": "code",
   "execution_count": 46,
   "id": "3a20ddf4",
   "metadata": {},
   "outputs": [
    {
     "data": {
      "text/plain": [
       "array([[ 1,  4],\n",
       "       [ 9, 16],\n",
       "       [25, 36]])"
      ]
     },
     "execution_count": 46,
     "metadata": {},
     "output_type": "execute_result"
    }
   ],
   "source": [
    "np.multiply(myarr,myarr)"
   ]
  },
  {
   "cell_type": "code",
   "execution_count": 48,
   "id": "6aedf1f2",
   "metadata": {},
   "outputs": [
    {
     "data": {
      "text/plain": [
       "array([[0, 0, 0, 0, 0],\n",
       "       [0, 0, 0, 0, 0]])"
      ]
     },
     "execution_count": 48,
     "metadata": {},
     "output_type": "execute_result"
    }
   ],
   "source": [
    "np.subtract(myarr3,myarr3)"
   ]
  },
  {
   "cell_type": "code",
   "execution_count": 49,
   "id": "7bee1e8e",
   "metadata": {},
   "outputs": [
    {
     "data": {
      "text/plain": [
       "array([[1, 2],\n",
       "       [3, 4],\n",
       "       [5, 6]])"
      ]
     },
     "execution_count": 49,
     "metadata": {},
     "output_type": "execute_result"
    }
   ],
   "source": [
    "myarr"
   ]
  },
  {
   "cell_type": "code",
   "execution_count": 51,
   "id": "6b08fc91",
   "metadata": {},
   "outputs": [],
   "source": [
    "myar=np.random.randn(3,2)"
   ]
  },
  {
   "cell_type": "code",
   "execution_count": 52,
   "id": "aeaa5a6d",
   "metadata": {},
   "outputs": [
    {
     "data": {
      "text/plain": [
       "array([[-1.56272132, -0.6685285 ],\n",
       "       [ 0.1517422 , -0.87341166],\n",
       "       [-2.02987791,  0.68919401]])"
      ]
     },
     "execution_count": 52,
     "metadata": {},
     "output_type": "execute_result"
    }
   ],
   "source": [
    "myar"
   ]
  },
  {
   "cell_type": "code",
   "execution_count": 57,
   "id": "f2e99de6",
   "metadata": {},
   "outputs": [
    {
     "data": {
      "text/plain": [
       "array([1, 3, 5])"
      ]
     },
     "execution_count": 57,
     "metadata": {},
     "output_type": "execute_result"
    }
   ],
   "source": [
    "np.amin(myarr,1)"
   ]
  },
  {
   "cell_type": "code",
   "execution_count": 58,
   "id": "18117403",
   "metadata": {},
   "outputs": [
    {
     "data": {
      "text/plain": [
       "array([5, 6])"
      ]
     },
     "execution_count": 58,
     "metadata": {},
     "output_type": "execute_result"
    }
   ],
   "source": [
    "np.amax(myarr,0)"
   ]
  },
  {
   "cell_type": "code",
   "execution_count": 59,
   "id": "88ae4997",
   "metadata": {},
   "outputs": [],
   "source": [
    "mya=np.maximum(myar,myarr)"
   ]
  },
  {
   "cell_type": "code",
   "execution_count": 60,
   "id": "cca5ea19",
   "metadata": {},
   "outputs": [
    {
     "data": {
      "text/plain": [
       "array([[1., 2.],\n",
       "       [3., 4.],\n",
       "       [5., 6.]])"
      ]
     },
     "execution_count": 60,
     "metadata": {},
     "output_type": "execute_result"
    }
   ],
   "source": [
    "mya"
   ]
  },
  {
   "cell_type": "code",
   "execution_count": 61,
   "id": "959c038f",
   "metadata": {},
   "outputs": [],
   "source": [
    "mya=np.minimum(myar,myarr)"
   ]
  },
  {
   "cell_type": "code",
   "execution_count": 62,
   "id": "fc1fbe93",
   "metadata": {},
   "outputs": [
    {
     "data": {
      "text/plain": [
       "array([[-1.56272132, -0.6685285 ],\n",
       "       [ 0.1517422 , -0.87341166],\n",
       "       [-2.02987791,  0.68919401]])"
      ]
     },
     "execution_count": 62,
     "metadata": {},
     "output_type": "execute_result"
    }
   ],
   "source": [
    "mya"
   ]
  },
  {
   "cell_type": "code",
   "execution_count": 63,
   "id": "b7a33ef8",
   "metadata": {},
   "outputs": [
    {
     "data": {
      "text/plain": [
       "array([[1, 2],\n",
       "       [3, 4],\n",
       "       [5, 6]])"
      ]
     },
     "execution_count": 63,
     "metadata": {},
     "output_type": "execute_result"
    }
   ],
   "source": [
    "myarr"
   ]
  },
  {
   "cell_type": "code",
   "execution_count": 64,
   "id": "9c3d90ee",
   "metadata": {},
   "outputs": [
    {
     "data": {
      "text/plain": [
       "array([3, 4])"
      ]
     },
     "execution_count": 64,
     "metadata": {},
     "output_type": "execute_result"
    }
   ],
   "source": [
    "myarr[1]"
   ]
  },
  {
   "cell_type": "code",
   "execution_count": 65,
   "id": "00990ec0",
   "metadata": {},
   "outputs": [
    {
     "data": {
      "text/plain": [
       "array([[3, 4],\n",
       "       [5, 6]])"
      ]
     },
     "execution_count": 65,
     "metadata": {},
     "output_type": "execute_result"
    }
   ],
   "source": [
    "myarr[1:]"
   ]
  },
  {
   "cell_type": "code",
   "execution_count": 66,
   "id": "09f23d17",
   "metadata": {},
   "outputs": [
    {
     "data": {
      "text/plain": [
       "array([3, 4])"
      ]
     },
     "execution_count": 66,
     "metadata": {},
     "output_type": "execute_result"
    }
   ],
   "source": [
    "myarr[1][:]"
   ]
  },
  {
   "cell_type": "code",
   "execution_count": 67,
   "id": "06695e0f",
   "metadata": {},
   "outputs": [
    {
     "data": {
      "text/plain": [
       "4"
      ]
     },
     "execution_count": 67,
     "metadata": {},
     "output_type": "execute_result"
    }
   ],
   "source": [
    "myarr[1][1]"
   ]
  },
  {
   "cell_type": "code",
   "execution_count": 68,
   "id": "ecd8f7af",
   "metadata": {},
   "outputs": [],
   "source": [
    "myarrr=myarr[:]"
   ]
  },
  {
   "cell_type": "code",
   "execution_count": 69,
   "id": "b7f28c0c",
   "metadata": {},
   "outputs": [
    {
     "data": {
      "text/plain": [
       "array([[1, 2],\n",
       "       [3, 4],\n",
       "       [5, 6]])"
      ]
     },
     "execution_count": 69,
     "metadata": {},
     "output_type": "execute_result"
    }
   ],
   "source": [
    "myarrr"
   ]
  },
  {
   "cell_type": "code",
   "execution_count": 70,
   "id": "65366fab",
   "metadata": {},
   "outputs": [],
   "source": [
    "myarrr[1][1]=10"
   ]
  },
  {
   "cell_type": "code",
   "execution_count": 71,
   "id": "21cd77de",
   "metadata": {},
   "outputs": [
    {
     "data": {
      "text/plain": [
       "array([[ 1,  2],\n",
       "       [ 3, 10],\n",
       "       [ 5,  6]])"
      ]
     },
     "execution_count": 71,
     "metadata": {},
     "output_type": "execute_result"
    }
   ],
   "source": [
    "myarr"
   ]
  },
  {
   "cell_type": "code",
   "execution_count": 72,
   "id": "47751fc7",
   "metadata": {},
   "outputs": [
    {
     "data": {
      "text/plain": [
       "array([[ 1,  2],\n",
       "       [ 3, 10],\n",
       "       [ 5,  6]])"
      ]
     },
     "execution_count": 72,
     "metadata": {},
     "output_type": "execute_result"
    }
   ],
   "source": [
    "myarrr"
   ]
  },
  {
   "cell_type": "code",
   "execution_count": 73,
   "id": "d6e18b0f",
   "metadata": {},
   "outputs": [],
   "source": [
    "mar=np.copy(myarr)"
   ]
  },
  {
   "cell_type": "code",
   "execution_count": 74,
   "id": "0ecee505",
   "metadata": {},
   "outputs": [
    {
     "data": {
      "text/plain": [
       "array([[ 1,  2],\n",
       "       [ 3, 10],\n",
       "       [ 5,  6]])"
      ]
     },
     "execution_count": 74,
     "metadata": {},
     "output_type": "execute_result"
    }
   ],
   "source": [
    "mar"
   ]
  },
  {
   "cell_type": "code",
   "execution_count": 75,
   "id": "00fe7066",
   "metadata": {},
   "outputs": [],
   "source": [
    "mar[1][1]=4"
   ]
  },
  {
   "cell_type": "code",
   "execution_count": 76,
   "id": "1e6376f7",
   "metadata": {},
   "outputs": [
    {
     "data": {
      "text/plain": [
       "array([[1, 2],\n",
       "       [3, 4],\n",
       "       [5, 6]])"
      ]
     },
     "execution_count": 76,
     "metadata": {},
     "output_type": "execute_result"
    }
   ],
   "source": [
    "mar"
   ]
  },
  {
   "cell_type": "code",
   "execution_count": 77,
   "id": "bfd4047e",
   "metadata": {},
   "outputs": [
    {
     "data": {
      "text/plain": [
       "array([[ 1,  2],\n",
       "       [ 3, 10],\n",
       "       [ 5,  6]])"
      ]
     },
     "execution_count": 77,
     "metadata": {},
     "output_type": "execute_result"
    }
   ],
   "source": [
    "myarr"
   ]
  },
  {
   "cell_type": "code",
   "execution_count": null,
   "id": "cd15c139",
   "metadata": {},
   "outputs": [],
   "source": []
  },
  {
   "cell_type": "code",
   "execution_count": 78,
   "id": "6b144240",
   "metadata": {},
   "outputs": [],
   "source": [
    "zero=np.zeros([5,5])"
   ]
  },
  {
   "cell_type": "code",
   "execution_count": 79,
   "id": "76cd5e69",
   "metadata": {},
   "outputs": [
    {
     "data": {
      "text/plain": [
       "array([[0., 0., 0., 0., 0.],\n",
       "       [0., 0., 0., 0., 0.],\n",
       "       [0., 0., 0., 0., 0.],\n",
       "       [0., 0., 0., 0., 0.],\n",
       "       [0., 0., 0., 0., 0.]])"
      ]
     },
     "execution_count": 79,
     "metadata": {},
     "output_type": "execute_result"
    }
   ],
   "source": [
    "zero"
   ]
  },
  {
   "cell_type": "code",
   "execution_count": 80,
   "id": "291312b2",
   "metadata": {},
   "outputs": [
    {
     "data": {
      "text/plain": [
       "array([0., 0., 0., 0., 0.])"
      ]
     },
     "execution_count": 80,
     "metadata": {},
     "output_type": "execute_result"
    }
   ],
   "source": [
    "zero[1]"
   ]
  },
  {
   "cell_type": "code",
   "execution_count": 81,
   "id": "bcc913a0",
   "metadata": {},
   "outputs": [],
   "source": [
    "l=zero.shape[1]"
   ]
  },
  {
   "cell_type": "code",
   "execution_count": 82,
   "id": "1f8a8842",
   "metadata": {},
   "outputs": [],
   "source": [
    "for i in range(l):\n",
    "    zero[i]=1"
   ]
  },
  {
   "cell_type": "code",
   "execution_count": 83,
   "id": "5179dd5a",
   "metadata": {},
   "outputs": [
    {
     "data": {
      "text/plain": [
       "array([[1., 1., 1., 1., 1.],\n",
       "       [1., 1., 1., 1., 1.],\n",
       "       [1., 1., 1., 1., 1.],\n",
       "       [1., 1., 1., 1., 1.],\n",
       "       [1., 1., 1., 1., 1.]])"
      ]
     },
     "execution_count": 83,
     "metadata": {},
     "output_type": "execute_result"
    }
   ],
   "source": [
    "zero"
   ]
  },
  {
   "cell_type": "code",
   "execution_count": 84,
   "id": "e147a1e5",
   "metadata": {},
   "outputs": [],
   "source": [
    "for i in range(l):\n",
    "    zero[i]=i"
   ]
  },
  {
   "cell_type": "code",
   "execution_count": 85,
   "id": "82c835ed",
   "metadata": {},
   "outputs": [
    {
     "data": {
      "text/plain": [
       "array([[0., 0., 0., 0., 0.],\n",
       "       [1., 1., 1., 1., 1.],\n",
       "       [2., 2., 2., 2., 2.],\n",
       "       [3., 3., 3., 3., 3.],\n",
       "       [4., 4., 4., 4., 4.]])"
      ]
     },
     "execution_count": 85,
     "metadata": {},
     "output_type": "execute_result"
    }
   ],
   "source": [
    "zero"
   ]
  },
  {
   "cell_type": "code",
   "execution_count": 86,
   "id": "82791210",
   "metadata": {},
   "outputs": [],
   "source": [
    "zero[2:]=5"
   ]
  },
  {
   "cell_type": "code",
   "execution_count": 87,
   "id": "88d3d4e3",
   "metadata": {},
   "outputs": [
    {
     "data": {
      "text/plain": [
       "array([[0., 0., 0., 0., 0.],\n",
       "       [1., 1., 1., 1., 1.],\n",
       "       [5., 5., 5., 5., 5.],\n",
       "       [5., 5., 5., 5., 5.],\n",
       "       [5., 5., 5., 5., 5.]])"
      ]
     },
     "execution_count": 87,
     "metadata": {},
     "output_type": "execute_result"
    }
   ],
   "source": [
    "zero"
   ]
  },
  {
   "cell_type": "code",
   "execution_count": 92,
   "id": "14ba16c1",
   "metadata": {},
   "outputs": [
    {
     "data": {
      "text/plain": [
       "array([[1., 1., 1., 1., 1.],\n",
       "       [5., 5., 5., 5., 5.],\n",
       "       [5., 5., 5., 5., 5.]])"
      ]
     },
     "execution_count": 92,
     "metadata": {},
     "output_type": "execute_result"
    }
   ],
   "source": [
    "zero[[1,2,3]]"
   ]
  },
  {
   "cell_type": "code",
   "execution_count": 93,
   "id": "9a1496b5",
   "metadata": {},
   "outputs": [
    {
     "data": {
      "text/plain": [
       "array([[ 1,  2],\n",
       "       [ 3, 10],\n",
       "       [ 5,  6]])"
      ]
     },
     "execution_count": 93,
     "metadata": {},
     "output_type": "execute_result"
    }
   ],
   "source": [
    "myarr"
   ]
  },
  {
   "cell_type": "code",
   "execution_count": 95,
   "id": "4282cdfd",
   "metadata": {},
   "outputs": [
    {
     "data": {
      "text/plain": [
       "4.5"
      ]
     },
     "execution_count": 95,
     "metadata": {},
     "output_type": "execute_result"
    }
   ],
   "source": [
    "myarr.mean()"
   ]
  },
  {
   "cell_type": "code",
   "execution_count": 97,
   "id": "673753e2",
   "metadata": {},
   "outputs": [
    {
     "data": {
      "text/plain": [
       "9"
      ]
     },
     "execution_count": 97,
     "metadata": {},
     "output_type": "execute_result"
    }
   ],
   "source": [
    "myarr.ptp()"
   ]
  },
  {
   "cell_type": "code",
   "execution_count": 98,
   "id": "205e83a8",
   "metadata": {},
   "outputs": [
    {
     "data": {
      "text/plain": [
       "array([1, 7, 1])"
      ]
     },
     "execution_count": 98,
     "metadata": {},
     "output_type": "execute_result"
    }
   ],
   "source": [
    "myarr.ptp(1)"
   ]
  },
  {
   "cell_type": "code",
   "execution_count": 99,
   "id": "4582c2d2",
   "metadata": {},
   "outputs": [
    {
     "data": {
      "text/plain": [
       "array([4, 8])"
      ]
     },
     "execution_count": 99,
     "metadata": {},
     "output_type": "execute_result"
    }
   ],
   "source": [
    "myarr.ptp(0)"
   ]
  },
  {
   "cell_type": "code",
   "execution_count": 100,
   "id": "9aa2e50f",
   "metadata": {},
   "outputs": [
    {
     "data": {
      "text/plain": [
       "array([1.5, 6.5, 5.5])"
      ]
     },
     "execution_count": 100,
     "metadata": {},
     "output_type": "execute_result"
    }
   ],
   "source": [
    "myarr.mean(1)"
   ]
  },
  {
   "cell_type": "code",
   "execution_count": 101,
   "id": "4d9fe215",
   "metadata": {},
   "outputs": [
    {
     "data": {
      "text/plain": [
       "array([3., 6.])"
      ]
     },
     "execution_count": 101,
     "metadata": {},
     "output_type": "execute_result"
    }
   ],
   "source": [
    "myarr.mean(0)"
   ]
  },
  {
   "cell_type": "code",
   "execution_count": 102,
   "id": "9fd51fde",
   "metadata": {},
   "outputs": [
    {
     "data": {
      "text/plain": [
       "2.9860788111948193"
      ]
     },
     "execution_count": 102,
     "metadata": {},
     "output_type": "execute_result"
    }
   ],
   "source": [
    "myarr.std()"
   ]
  },
  {
   "cell_type": "code",
   "execution_count": 103,
   "id": "605cb0bc",
   "metadata": {},
   "outputs": [
    {
     "data": {
      "text/plain": [
       "array([0.5, 3.5, 0.5])"
      ]
     },
     "execution_count": 103,
     "metadata": {},
     "output_type": "execute_result"
    }
   ],
   "source": [
    "myarr.std(1)"
   ]
  },
  {
   "cell_type": "code",
   "execution_count": 104,
   "id": "b87eb6df",
   "metadata": {},
   "outputs": [
    {
     "data": {
      "text/plain": [
       "array([1.63299316, 3.26598632])"
      ]
     },
     "execution_count": 104,
     "metadata": {},
     "output_type": "execute_result"
    }
   ],
   "source": [
    "myarr.std(0)"
   ]
  },
  {
   "cell_type": "code",
   "execution_count": 105,
   "id": "afef81ef",
   "metadata": {},
   "outputs": [
    {
     "data": {
      "text/plain": [
       "8.916666666666666"
      ]
     },
     "execution_count": 105,
     "metadata": {},
     "output_type": "execute_result"
    }
   ],
   "source": [
    "myarr.var()"
   ]
  },
  {
   "cell_type": "code",
   "execution_count": 106,
   "id": "5042f00f",
   "metadata": {},
   "outputs": [
    {
     "data": {
      "text/plain": [
       "array([ 2.66666667, 10.66666667])"
      ]
     },
     "execution_count": 106,
     "metadata": {},
     "output_type": "execute_result"
    }
   ],
   "source": [
    "myarr.var(0)"
   ]
  },
  {
   "cell_type": "code",
   "execution_count": 107,
   "id": "7ef5629c",
   "metadata": {},
   "outputs": [
    {
     "data": {
      "text/plain": [
       "array([ 0.25, 12.25,  0.25])"
      ]
     },
     "execution_count": 107,
     "metadata": {},
     "output_type": "execute_result"
    }
   ],
   "source": [
    "myarr.var(1)"
   ]
  },
  {
   "cell_type": "code",
   "execution_count": 115,
   "id": "30da8485",
   "metadata": {},
   "outputs": [
    {
     "data": {
      "text/plain": [
       "array([[ 2,  4],\n",
       "       [ 6, 20],\n",
       "       [10, 12]])"
      ]
     },
     "execution_count": 115,
     "metadata": {},
     "output_type": "execute_result"
    }
   ],
   "source": [
    "np.dot(myarr,2)"
   ]
  },
  {
   "cell_type": "code",
   "execution_count": 116,
   "id": "c57b8591",
   "metadata": {},
   "outputs": [
    {
     "data": {
      "text/plain": [
       "array([[ 2,  4],\n",
       "       [ 6, 20],\n",
       "       [10, 12]])"
      ]
     },
     "execution_count": 116,
     "metadata": {},
     "output_type": "execute_result"
    }
   ],
   "source": [
    "myarr*2"
   ]
  },
  {
   "cell_type": "code",
   "execution_count": 120,
   "id": "6754620d",
   "metadata": {},
   "outputs": [
    {
     "data": {
      "text/plain": [
       "4.0"
      ]
     },
     "execution_count": 120,
     "metadata": {},
     "output_type": "execute_result"
    }
   ],
   "source": [
    "np.median(myarr)"
   ]
  },
  {
   "cell_type": "code",
   "execution_count": 121,
   "id": "8e247661",
   "metadata": {},
   "outputs": [
    {
     "data": {
      "text/plain": [
       "array([1.5, 6.5, 5.5])"
      ]
     },
     "execution_count": 121,
     "metadata": {},
     "output_type": "execute_result"
    }
   ],
   "source": [
    "np.median(myarr,1)"
   ]
  },
  {
   "cell_type": "code",
   "execution_count": 122,
   "id": "cf1f49af",
   "metadata": {},
   "outputs": [
    {
     "data": {
      "text/plain": [
       "array([3., 6.])"
      ]
     },
     "execution_count": 122,
     "metadata": {},
     "output_type": "execute_result"
    }
   ],
   "source": [
    "np.median(myarr,0)"
   ]
  },
  {
   "cell_type": "code",
   "execution_count": 126,
   "id": "ddc40b83",
   "metadata": {},
   "outputs": [
    {
     "data": {
      "text/plain": [
       "4.5"
      ]
     },
     "execution_count": 126,
     "metadata": {},
     "output_type": "execute_result"
    }
   ],
   "source": [
    "np.average(myarr)"
   ]
  },
  {
   "cell_type": "code",
   "execution_count": 130,
   "id": "7e1a498f",
   "metadata": {},
   "outputs": [
    {
     "data": {
      "text/plain": [
       "array([[ 1,  2],\n",
       "       [ 3, 10],\n",
       "       [ 5,  6]])"
      ]
     },
     "execution_count": 130,
     "metadata": {},
     "output_type": "execute_result"
    }
   ],
   "source": [
    "myarr"
   ]
  },
  {
   "cell_type": "code",
   "execution_count": 131,
   "id": "0591657d",
   "metadata": {},
   "outputs": [
    {
     "data": {
      "text/plain": [
       "array([[ 1,  3,  5],\n",
       "       [ 2, 10,  6]])"
      ]
     },
     "execution_count": 131,
     "metadata": {},
     "output_type": "execute_result"
    }
   ],
   "source": [
    "myarr.T"
   ]
  },
  {
   "cell_type": "code",
   "execution_count": 133,
   "id": "f395ee06",
   "metadata": {},
   "outputs": [
    {
     "data": {
      "text/plain": [
       "array([[ 1,  3,  5],\n",
       "       [ 2, 10,  6]])"
      ]
     },
     "execution_count": 133,
     "metadata": {},
     "output_type": "execute_result"
    }
   ],
   "source": [
    "np.transpose(myarr)"
   ]
  },
  {
   "cell_type": "code",
   "execution_count": 134,
   "id": "f2a07858",
   "metadata": {},
   "outputs": [
    {
     "data": {
      "text/plain": [
       "2.9860788111948193"
      ]
     },
     "execution_count": 134,
     "metadata": {},
     "output_type": "execute_result"
    }
   ],
   "source": [
    "np.std(myarr)"
   ]
  },
  {
   "cell_type": "code",
   "execution_count": 137,
   "id": "eadac03f",
   "metadata": {},
   "outputs": [
    {
     "data": {
      "text/plain": [
       "array([[ 1,  3,  5],\n",
       "       [ 2, 10,  6]])"
      ]
     },
     "execution_count": 137,
     "metadata": {},
     "output_type": "execute_result"
    }
   ],
   "source": [
    "myarr.swapaxes(1,0)"
   ]
  },
  {
   "cell_type": "code",
   "execution_count": 138,
   "id": "6b73f38f",
   "metadata": {},
   "outputs": [
    {
     "data": {
      "text/plain": [
       "array([[1.        , 1.41421356],\n",
       "       [1.73205081, 2.        ],\n",
       "       [2.23606798, 2.44948974]])"
      ]
     },
     "execution_count": 138,
     "metadata": {},
     "output_type": "execute_result"
    }
   ],
   "source": [
    "np.sqrt(mar)"
   ]
  },
  {
   "cell_type": "code",
   "execution_count": 139,
   "id": "c77c5f2a",
   "metadata": {},
   "outputs": [
    {
     "data": {
      "text/plain": [
       "array([[  2.71828183,   7.3890561 ],\n",
       "       [ 20.08553692,  54.59815003],\n",
       "       [148.4131591 , 403.42879349]])"
      ]
     },
     "execution_count": 139,
     "metadata": {},
     "output_type": "execute_result"
    }
   ],
   "source": [
    "np.exp(mar)"
   ]
  },
  {
   "cell_type": "code",
   "execution_count": 140,
   "id": "46986d37",
   "metadata": {},
   "outputs": [
    {
     "data": {
      "text/plain": [
       "array([[ 1,  2],\n",
       "       [ 3, 10],\n",
       "       [ 5,  6]])"
      ]
     },
     "execution_count": 140,
     "metadata": {},
     "output_type": "execute_result"
    }
   ],
   "source": [
    "myarr"
   ]
  },
  {
   "cell_type": "code",
   "execution_count": 141,
   "id": "3b200220",
   "metadata": {},
   "outputs": [],
   "source": [
    "np.save(\"myarray\",myarr)"
   ]
  },
  {
   "cell_type": "code",
   "execution_count": 145,
   "id": "b5ad6cc5",
   "metadata": {},
   "outputs": [],
   "source": [
    "m=np.load(\"myarray.npy\")"
   ]
  },
  {
   "cell_type": "code",
   "execution_count": 146,
   "id": "4ec8cdbe",
   "metadata": {},
   "outputs": [
    {
     "data": {
      "text/plain": [
       "array([[ 1,  2],\n",
       "       [ 3, 10],\n",
       "       [ 5,  6]])"
      ]
     },
     "execution_count": 146,
     "metadata": {},
     "output_type": "execute_result"
    }
   ],
   "source": [
    "m"
   ]
  },
  {
   "cell_type": "code",
   "execution_count": 147,
   "id": "c36ef31c",
   "metadata": {},
   "outputs": [
    {
     "data": {
      "text/plain": [
       "array([[1, 2],\n",
       "       [3, 4],\n",
       "       [5, 6]])"
      ]
     },
     "execution_count": 147,
     "metadata": {},
     "output_type": "execute_result"
    }
   ],
   "source": [
    "mar"
   ]
  },
  {
   "cell_type": "code",
   "execution_count": 148,
   "id": "4dd5dbe2",
   "metadata": {},
   "outputs": [],
   "source": [
    "np.savez(\"ziparray\",x=mar,y=m)"
   ]
  },
  {
   "cell_type": "code",
   "execution_count": 149,
   "id": "f4a7647d",
   "metadata": {},
   "outputs": [],
   "source": [
    "mm=np.load(\"ziparray.npz\")"
   ]
  },
  {
   "cell_type": "code",
   "execution_count": 154,
   "id": "af66ce30",
   "metadata": {},
   "outputs": [
    {
     "data": {
      "text/plain": [
       "array([[1, 2],\n",
       "       [3, 4],\n",
       "       [5, 6]])"
      ]
     },
     "execution_count": 154,
     "metadata": {},
     "output_type": "execute_result"
    }
   ],
   "source": [
    "mm['x']"
   ]
  },
  {
   "cell_type": "code",
   "execution_count": 155,
   "id": "bebb259f",
   "metadata": {},
   "outputs": [
    {
     "data": {
      "text/plain": [
       "array([[ 1,  2],\n",
       "       [ 3, 10],\n",
       "       [ 5,  6]])"
      ]
     },
     "execution_count": 155,
     "metadata": {},
     "output_type": "execute_result"
    }
   ],
   "source": [
    "mm['y']"
   ]
  },
  {
   "cell_type": "code",
   "execution_count": 160,
   "id": "f973b260",
   "metadata": {},
   "outputs": [],
   "source": [
    "np.savetxt(\"artxt.txt\",m,delimiter=',')"
   ]
  },
  {
   "cell_type": "code",
   "execution_count": 161,
   "id": "4b66ade0",
   "metadata": {},
   "outputs": [],
   "source": [
    "t=np.loadtxt(\"artxt.txt\",delimiter=',')"
   ]
  },
  {
   "cell_type": "code",
   "execution_count": 162,
   "id": "c020c977",
   "metadata": {},
   "outputs": [
    {
     "data": {
      "text/plain": [
       "array([[ 1.,  2.],\n",
       "       [ 3., 10.],\n",
       "       [ 5.,  6.]])"
      ]
     },
     "execution_count": 162,
     "metadata": {},
     "output_type": "execute_result"
    }
   ],
   "source": [
    "t"
   ]
  },
  {
   "cell_type": "code",
   "execution_count": 164,
   "id": "2c5d8336",
   "metadata": {},
   "outputs": [],
   "source": [
    "myarray=np.array(['usa','uk','russia','india','usa'])"
   ]
  },
  {
   "cell_type": "code",
   "execution_count": 165,
   "id": "349b7af2",
   "metadata": {},
   "outputs": [
    {
     "data": {
      "text/plain": [
       "array(['india', 'russia', 'uk', 'usa'], dtype='<U6')"
      ]
     },
     "execution_count": 165,
     "metadata": {},
     "output_type": "execute_result"
    }
   ],
   "source": [
    "np.unique(myarray)"
   ]
  },
  {
   "cell_type": "code",
   "execution_count": 169,
   "id": "d58219a9",
   "metadata": {},
   "outputs": [
    {
     "data": {
      "text/plain": [
       "array([ True])"
      ]
     },
     "execution_count": 169,
     "metadata": {},
     "output_type": "execute_result"
    }
   ],
   "source": [
    "np.in1d(['india'],myarray)"
   ]
  },
  {
   "cell_type": "code",
   "execution_count": 170,
   "id": "c0f35007",
   "metadata": {},
   "outputs": [],
   "source": [
    "bolarr=np.array([True,False,False,True])"
   ]
  },
  {
   "cell_type": "code",
   "execution_count": 171,
   "id": "afa29a5a",
   "metadata": {},
   "outputs": [
    {
     "data": {
      "text/plain": [
       "True"
      ]
     },
     "execution_count": 171,
     "metadata": {},
     "output_type": "execute_result"
    }
   ],
   "source": [
    "bolarr.any()"
   ]
  },
  {
   "cell_type": "code",
   "execution_count": 172,
   "id": "9799a035",
   "metadata": {},
   "outputs": [
    {
     "data": {
      "text/plain": [
       "False"
      ]
     },
     "execution_count": 172,
     "metadata": {},
     "output_type": "execute_result"
    }
   ],
   "source": [
    "bolarr.all()"
   ]
  },
  {
   "cell_type": "code",
   "execution_count": 173,
   "id": "b4936387",
   "metadata": {},
   "outputs": [],
   "source": [
    "a=np.array([1,2,3,4])\n",
    "b=np.array(['a','b','c','d'])"
   ]
  },
  {
   "cell_type": "code",
   "execution_count": 174,
   "id": "bd0176c1",
   "metadata": {},
   "outputs": [],
   "source": [
    "l=[(x if y else z) for x,y,z in zip(a,bolarr,b) ]"
   ]
  },
  {
   "cell_type": "code",
   "execution_count": 175,
   "id": "9e9f32f5",
   "metadata": {},
   "outputs": [
    {
     "data": {
      "text/plain": [
       "[1, 'b', 'c', 4]"
      ]
     },
     "execution_count": 175,
     "metadata": {},
     "output_type": "execute_result"
    }
   ],
   "source": [
    "l"
   ]
  },
  {
   "cell_type": "code",
   "execution_count": 182,
   "id": "69fc82ad",
   "metadata": {},
   "outputs": [],
   "source": [
    "ll=np.where(bolarr,a,b)"
   ]
  },
  {
   "cell_type": "code",
   "execution_count": 183,
   "id": "42c4828c",
   "metadata": {},
   "outputs": [
    {
     "data": {
      "text/plain": [
       "array(['1', 'b', 'c', '4'], dtype='<U11')"
      ]
     },
     "execution_count": 183,
     "metadata": {},
     "output_type": "execute_result"
    }
   ],
   "source": [
    "ll"
   ]
  },
  {
   "cell_type": "code",
   "execution_count": 184,
   "id": "b0db4dc5",
   "metadata": {},
   "outputs": [],
   "source": [
    "broadcast=np.array([[1,2,3],[4,5,6],[7,8,9]])"
   ]
  },
  {
   "cell_type": "code",
   "execution_count": 185,
   "id": "61ab8b94",
   "metadata": {},
   "outputs": [],
   "source": [
    "x=np.array([1,2,3])"
   ]
  },
  {
   "cell_type": "code",
   "execution_count": 186,
   "id": "313c61b5",
   "metadata": {},
   "outputs": [
    {
     "data": {
      "text/plain": [
       "array([[ 2,  4,  6],\n",
       "       [ 5,  7,  9],\n",
       "       [ 8, 10, 12]])"
      ]
     },
     "execution_count": 186,
     "metadata": {},
     "output_type": "execute_result"
    }
   ],
   "source": [
    "broadcast+x"
   ]
  },
  {
   "cell_type": "code",
   "execution_count": 188,
   "id": "68f82046",
   "metadata": {},
   "outputs": [],
   "source": [
    "y=np.array([[1],[2],[4]])"
   ]
  },
  {
   "cell_type": "code",
   "execution_count": 189,
   "id": "78f3a3c8",
   "metadata": {},
   "outputs": [
    {
     "data": {
      "text/plain": [
       "array([[ 2,  3,  4],\n",
       "       [ 6,  7,  8],\n",
       "       [11, 12, 13]])"
      ]
     },
     "execution_count": 189,
     "metadata": {},
     "output_type": "execute_result"
    }
   ],
   "source": [
    "broadcast+y"
   ]
  },
  {
   "cell_type": "code",
   "execution_count": null,
   "id": "b23c6ea7",
   "metadata": {},
   "outputs": [],
   "source": []
  }
 ],
 "metadata": {
  "kernelspec": {
   "display_name": "Python 3",
   "language": "python",
   "name": "python3"
  },
  "language_info": {
   "codemirror_mode": {
    "name": "ipython",
    "version": 3
   },
   "file_extension": ".py",
   "mimetype": "text/x-python",
   "name": "python",
   "nbconvert_exporter": "python",
   "pygments_lexer": "ipython3",
   "version": "3.7.9"
  }
 },
 "nbformat": 4,
 "nbformat_minor": 5
}
