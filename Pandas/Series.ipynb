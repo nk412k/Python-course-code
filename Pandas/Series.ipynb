{
 "cells": [
  {
   "cell_type": "code",
   "execution_count": 1,
   "id": "fb251f21",
   "metadata": {},
   "outputs": [],
   "source": [
    "import pandas as pd"
   ]
  },
  {
   "cell_type": "code",
   "execution_count": 4,
   "id": "eaabf83e",
   "metadata": {},
   "outputs": [
    {
     "data": {
      "text/plain": [
       "0     3\n",
       "1     6\n",
       "2     9\n",
       "3    12\n",
       "dtype: int64"
      ]
     },
     "execution_count": 4,
     "metadata": {},
     "output_type": "execute_result"
    }
   ],
   "source": [
    "#series from list\n",
    "\n",
    "l=[3,6,9,12]\n",
    "myseries=pd.Series(l)\n",
    "myseries"
   ]
  },
  {
   "cell_type": "code",
   "execution_count": 5,
   "id": "3ef62318",
   "metadata": {},
   "outputs": [
    {
     "data": {
      "text/plain": [
       "0     4\n",
       "1     8\n",
       "2    12\n",
       "3    16\n",
       "dtype: int64"
      ]
     },
     "execution_count": 5,
     "metadata": {},
     "output_type": "execute_result"
    }
   ],
   "source": [
    "myseries=pd.Series([4,8,12,16])\n",
    "myseries"
   ]
  },
  {
   "cell_type": "code",
   "execution_count": 9,
   "id": "0e5fae38",
   "metadata": {},
   "outputs": [
    {
     "data": {
      "text/plain": [
       "array([ 4,  8, 12, 16], dtype=int64)"
      ]
     },
     "execution_count": 9,
     "metadata": {},
     "output_type": "execute_result"
    }
   ],
   "source": [
    "myseries.values"
   ]
  },
  {
   "cell_type": "code",
   "execution_count": 14,
   "id": "14d2abd8",
   "metadata": {},
   "outputs": [
    {
     "data": {
      "text/plain": [
       "RangeIndex(start=0, stop=4, step=1)"
      ]
     },
     "execution_count": 14,
     "metadata": {},
     "output_type": "execute_result"
    }
   ],
   "source": [
    "myseries.index"
   ]
  },
  {
   "cell_type": "code",
   "execution_count": 69,
   "id": "952fd32f",
   "metadata": {},
   "outputs": [
    {
     "data": {
      "text/plain": [
       "0     5\n",
       "1    10\n",
       "2    15\n",
       "3    20\n",
       "dtype: int32"
      ]
     },
     "execution_count": 69,
     "metadata": {},
     "output_type": "execute_result"
    }
   ],
   "source": [
    "import numpy as np\n",
    "a=np.array([5,10,15,20])\n",
    "aseries=pd.Series(a)\n",
    "aseries"
   ]
  },
  {
   "cell_type": "code",
   "execution_count": 15,
   "id": "db255e39",
   "metadata": {},
   "outputs": [],
   "source": [
    "score=pd.Series([99,100,93,91,89],index=['Maths','Computer','Physics','Hindi','English'])"
   ]
  },
  {
   "cell_type": "code",
   "execution_count": 16,
   "id": "349ce616",
   "metadata": {},
   "outputs": [
    {
     "data": {
      "text/plain": [
       "Maths        99\n",
       "Computer    100\n",
       "Physics      93\n",
       "Hindi        91\n",
       "English      89\n",
       "dtype: int64"
      ]
     },
     "execution_count": 16,
     "metadata": {},
     "output_type": "execute_result"
    }
   ],
   "source": [
    "score"
   ]
  },
  {
   "cell_type": "code",
   "execution_count": 17,
   "id": "c94d6d0d",
   "metadata": {},
   "outputs": [
    {
     "data": {
      "text/plain": [
       "Maths        99\n",
       "Computer    100\n",
       "Physics      93\n",
       "Hindi        91\n",
       "English      89\n",
       "dtype: int64"
      ]
     },
     "execution_count": 17,
     "metadata": {},
     "output_type": "execute_result"
    }
   ],
   "source": [
    "score[:]"
   ]
  },
  {
   "cell_type": "code",
   "execution_count": 19,
   "id": "b49bbe08",
   "metadata": {},
   "outputs": [
    {
     "data": {
      "text/plain": [
       "100"
      ]
     },
     "execution_count": 19,
     "metadata": {},
     "output_type": "execute_result"
    }
   ],
   "source": [
    "score[1]"
   ]
  },
  {
   "cell_type": "code",
   "execution_count": 20,
   "id": "7eb321b1",
   "metadata": {},
   "outputs": [
    {
     "data": {
      "text/plain": [
       "Index(['Maths', 'Computer', 'Physics', 'Hindi', 'English'], dtype='object')"
      ]
     },
     "execution_count": 20,
     "metadata": {},
     "output_type": "execute_result"
    }
   ],
   "source": [
    "score.index"
   ]
  },
  {
   "cell_type": "code",
   "execution_count": 22,
   "id": "3b29f666",
   "metadata": {},
   "outputs": [
    {
     "data": {
      "text/plain": [
       "array([ 99, 100,  93,  91,  89], dtype=int64)"
      ]
     },
     "execution_count": 22,
     "metadata": {},
     "output_type": "execute_result"
    }
   ],
   "source": [
    "score.values"
   ]
  },
  {
   "cell_type": "code",
   "execution_count": 23,
   "id": "1a9b9887",
   "metadata": {},
   "outputs": [
    {
     "data": {
      "text/plain": [
       "Computer    100\n",
       "Physics      93\n",
       "Hindi        91\n",
       "English      89\n",
       "dtype: int64"
      ]
     },
     "execution_count": 23,
     "metadata": {},
     "output_type": "execute_result"
    }
   ],
   "source": [
    "score[1:]"
   ]
  },
  {
   "cell_type": "code",
   "execution_count": 24,
   "id": "3c6bc5e0",
   "metadata": {},
   "outputs": [
    {
     "data": {
      "text/plain": [
       "Maths        99\n",
       "Computer    100\n",
       "Physics      93\n",
       "Hindi        91\n",
       "dtype: int64"
      ]
     },
     "execution_count": 24,
     "metadata": {},
     "output_type": "execute_result"
    }
   ],
   "source": [
    "score[score>90]"
   ]
  },
  {
   "cell_type": "code",
   "execution_count": 55,
   "id": "634b513c",
   "metadata": {},
   "outputs": [],
   "source": [
    "mydic=score.to_dict()"
   ]
  },
  {
   "cell_type": "code",
   "execution_count": 56,
   "id": "2d34c249",
   "metadata": {},
   "outputs": [
    {
     "data": {
      "text/plain": [
       "{'Maths': 99, 'Computer': 100, 'Physics': 93, 'Hindi': 91, 'English': 89}"
      ]
     },
     "execution_count": 56,
     "metadata": {},
     "output_type": "execute_result"
    }
   ],
   "source": [
    "mydic"
   ]
  },
  {
   "cell_type": "code",
   "execution_count": 57,
   "id": "9b506fb6",
   "metadata": {},
   "outputs": [],
   "source": [
    "mydic=dict(score)"
   ]
  },
  {
   "cell_type": "code",
   "execution_count": 58,
   "id": "c368ed3b",
   "metadata": {},
   "outputs": [
    {
     "data": {
      "text/plain": [
       "{'Maths': 99, 'Computer': 100, 'Physics': 93, 'Hindi': 91, 'English': 89}"
      ]
     },
     "execution_count": 58,
     "metadata": {},
     "output_type": "execute_result"
    }
   ],
   "source": [
    "mydic"
   ]
  },
  {
   "cell_type": "code",
   "execution_count": null,
   "id": "b4b81f84",
   "metadata": {},
   "outputs": [],
   "source": []
  },
  {
   "cell_type": "code",
   "execution_count": 29,
   "id": "ec3a9bb5",
   "metadata": {},
   "outputs": [],
   "source": [
    "ser=pd.Series(mydic)"
   ]
  },
  {
   "cell_type": "code",
   "execution_count": 30,
   "id": "25b6eba0",
   "metadata": {},
   "outputs": [
    {
     "data": {
      "text/plain": [
       "Maths        99\n",
       "Computer    100\n",
       "Physics      93\n",
       "Hindi        91\n",
       "English      89\n",
       "dtype: int64"
      ]
     },
     "execution_count": 30,
     "metadata": {},
     "output_type": "execute_result"
    }
   ],
   "source": [
    "ser"
   ]
  },
  {
   "cell_type": "code",
   "execution_count": 45,
   "id": "0bb7d159",
   "metadata": {},
   "outputs": [],
   "source": [
    "sub=['Computer','Maths','English','Chemistry','hindi']"
   ]
  },
  {
   "cell_type": "code",
   "execution_count": 46,
   "id": "d9654dc2",
   "metadata": {},
   "outputs": [],
   "source": [
    "obj=pd.Series(score,index=sub)"
   ]
  },
  {
   "cell_type": "code",
   "execution_count": 47,
   "id": "ae0c5b8e",
   "metadata": {},
   "outputs": [
    {
     "data": {
      "text/plain": [
       "Computer     100.0\n",
       "Maths         99.0\n",
       "English       89.0\n",
       "Chemistry      NaN\n",
       "hindi          NaN\n",
       "dtype: float64"
      ]
     },
     "execution_count": 47,
     "metadata": {},
     "output_type": "execute_result"
    }
   ],
   "source": [
    "obj"
   ]
  },
  {
   "cell_type": "code",
   "execution_count": 50,
   "id": "9a78d0f0",
   "metadata": {},
   "outputs": [
    {
     "data": {
      "text/plain": [
       "100"
      ]
     },
     "execution_count": 50,
     "metadata": {},
     "output_type": "execute_result"
    }
   ],
   "source": [
    "score['Computer']"
   ]
  },
  {
   "cell_type": "code",
   "execution_count": 51,
   "id": "9436218e",
   "metadata": {},
   "outputs": [
    {
     "data": {
      "text/plain": [
       "False"
      ]
     },
     "execution_count": 51,
     "metadata": {},
     "output_type": "execute_result"
    }
   ],
   "source": [
    "'Hindi' in obj"
   ]
  },
  {
   "cell_type": "code",
   "execution_count": 52,
   "id": "34c16866",
   "metadata": {},
   "outputs": [
    {
     "data": {
      "text/plain": [
       "True"
      ]
     },
     "execution_count": 52,
     "metadata": {},
     "output_type": "execute_result"
    }
   ],
   "source": [
    "'Hindi' in score"
   ]
  },
  {
   "cell_type": "code",
   "execution_count": 53,
   "id": "a912539c",
   "metadata": {},
   "outputs": [
    {
     "data": {
      "text/plain": [
       "Computer     False\n",
       "Maths        False\n",
       "English      False\n",
       "Chemistry     True\n",
       "hindi         True\n",
       "dtype: bool"
      ]
     },
     "execution_count": 53,
     "metadata": {},
     "output_type": "execute_result"
    }
   ],
   "source": [
    "pd.isnull(obj)"
   ]
  },
  {
   "cell_type": "code",
   "execution_count": 54,
   "id": "6b028e69",
   "metadata": {},
   "outputs": [
    {
     "data": {
      "text/plain": [
       "Computer      True\n",
       "Maths         True\n",
       "English       True\n",
       "Chemistry    False\n",
       "hindi        False\n",
       "dtype: bool"
      ]
     },
     "execution_count": 54,
     "metadata": {},
     "output_type": "execute_result"
    }
   ],
   "source": [
    "pd.notnull(obj)"
   ]
  },
  {
   "cell_type": "code",
   "execution_count": 59,
   "id": "ab810192",
   "metadata": {},
   "outputs": [
    {
     "data": {
      "text/plain": [
       "Chemistry      NaN\n",
       "Computer     200.0\n",
       "English      178.0\n",
       "Hindi          NaN\n",
       "Maths        198.0\n",
       "Physics        NaN\n",
       "hindi          NaN\n",
       "dtype: float64"
      ]
     },
     "execution_count": 59,
     "metadata": {},
     "output_type": "execute_result"
    }
   ],
   "source": [
    "score + obj"
   ]
  },
  {
   "cell_type": "code",
   "execution_count": 60,
   "id": "3f0d9819",
   "metadata": {},
   "outputs": [],
   "source": [
    "score.name=\"Result\""
   ]
  },
  {
   "cell_type": "code",
   "execution_count": 65,
   "id": "8fe8f9b0",
   "metadata": {},
   "outputs": [],
   "source": [
    "score.index.name=\"Subject\""
   ]
  },
  {
   "cell_type": "code",
   "execution_count": 66,
   "id": "244a4ab9",
   "metadata": {},
   "outputs": [
    {
     "data": {
      "text/plain": [
       "Subject\n",
       "Maths        99\n",
       "Computer    100\n",
       "Physics      93\n",
       "Hindi        91\n",
       "English      89\n",
       "Name: Result, dtype: int64"
      ]
     },
     "execution_count": 66,
     "metadata": {},
     "output_type": "execute_result"
    }
   ],
   "source": [
    "score"
   ]
  },
  {
   "cell_type": "code",
   "execution_count": null,
   "id": "ee01c152",
   "metadata": {},
   "outputs": [],
   "source": []
  }
 ],
 "metadata": {
  "kernelspec": {
   "display_name": "Python 3",
   "language": "python",
   "name": "python3"
  },
  "language_info": {
   "codemirror_mode": {
    "name": "ipython",
    "version": 3
   },
   "file_extension": ".py",
   "mimetype": "text/x-python",
   "name": "python",
   "nbconvert_exporter": "python",
   "pygments_lexer": "ipython3",
   "version": "3.7.9"
  }
 },
 "nbformat": 4,
 "nbformat_minor": 5
}
