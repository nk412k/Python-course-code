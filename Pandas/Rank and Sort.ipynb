{
 "cells": [
  {
   "cell_type": "code",
   "execution_count": 26,
   "id": "1d6bcaff",
   "metadata": {},
   "outputs": [],
   "source": [
    "import pandas as pd\n",
    "\n",
    "import numpy as np"
   ]
  },
  {
   "cell_type": "code",
   "execution_count": 2,
   "id": "a2f94ade",
   "metadata": {},
   "outputs": [],
   "source": [
    "s=pd.Series(range(3),index=['C','A','B'])"
   ]
  },
  {
   "cell_type": "code",
   "execution_count": 3,
   "id": "b53890a9",
   "metadata": {},
   "outputs": [
    {
     "data": {
      "text/plain": [
       "C    0\n",
       "A    1\n",
       "B    2\n",
       "dtype: int64"
      ]
     },
     "execution_count": 3,
     "metadata": {},
     "output_type": "execute_result"
    }
   ],
   "source": [
    "s"
   ]
  },
  {
   "cell_type": "code",
   "execution_count": 6,
   "id": "4a27c33f",
   "metadata": {},
   "outputs": [
    {
     "data": {
      "text/plain": [
       "A    1\n",
       "B    2\n",
       "C    0\n",
       "dtype: int64"
      ]
     },
     "execution_count": 6,
     "metadata": {},
     "output_type": "execute_result"
    }
   ],
   "source": [
    "s.sort_index()"
   ]
  },
  {
   "cell_type": "code",
   "execution_count": 39,
   "id": "efb27c92",
   "metadata": {},
   "outputs": [
    {
     "data": {
      "text/plain": [
       "C    0\n",
       "A    1\n",
       "B    2\n",
       "dtype: int64"
      ]
     },
     "execution_count": 39,
     "metadata": {},
     "output_type": "execute_result"
    }
   ],
   "source": [
    "s.sort_values()"
   ]
  },
  {
   "cell_type": "code",
   "execution_count": 14,
   "id": "3f4a7877",
   "metadata": {},
   "outputs": [],
   "source": [
    "s1=pd.Series(np.random.randn(10))"
   ]
  },
  {
   "cell_type": "code",
   "execution_count": 15,
   "id": "9a283fce",
   "metadata": {},
   "outputs": [
    {
     "data": {
      "text/plain": [
       "0    1.329453\n",
       "1    0.676934\n",
       "2    0.245698\n",
       "3    0.071536\n",
       "4    0.190795\n",
       "5    0.796847\n",
       "6   -0.457439\n",
       "7   -0.988634\n",
       "8    0.288386\n",
       "9    1.672482\n",
       "dtype: float64"
      ]
     },
     "execution_count": 15,
     "metadata": {},
     "output_type": "execute_result"
    }
   ],
   "source": [
    "s1"
   ]
  },
  {
   "cell_type": "code",
   "execution_count": 44,
   "id": "928bfcb9",
   "metadata": {},
   "outputs": [
    {
     "data": {
      "text/plain": [
       "0     9.0\n",
       "1     7.0\n",
       "2     5.0\n",
       "3     3.0\n",
       "4     4.0\n",
       "5     8.0\n",
       "6     2.0\n",
       "7     1.0\n",
       "8     6.0\n",
       "9    10.0\n",
       "dtype: float64"
      ]
     },
     "execution_count": 44,
     "metadata": {},
     "output_type": "execute_result"
    }
   ],
   "source": [
    "s1.rank()"
   ]
  },
  {
   "cell_type": "code",
   "execution_count": 42,
   "id": "6de864b2",
   "metadata": {},
   "outputs": [
    {
     "data": {
      "text/plain": [
       "7   -0.988634\n",
       "6   -0.457439\n",
       "3    0.071536\n",
       "4    0.190795\n",
       "2    0.245698\n",
       "8    0.288386\n",
       "1    0.676934\n",
       "5    0.796847\n",
       "0    1.329453\n",
       "9    1.672482\n",
       "dtype: float64"
      ]
     },
     "execution_count": 42,
     "metadata": {},
     "output_type": "execute_result"
    }
   ],
   "source": [
    "s1.sort_values()"
   ]
  },
  {
   "cell_type": "code",
   "execution_count": 43,
   "id": "d9901cad",
   "metadata": {},
   "outputs": [
    {
     "data": {
      "text/plain": [
       "0     9.0\n",
       "1     7.0\n",
       "2     5.0\n",
       "3     3.0\n",
       "4     4.0\n",
       "5     8.0\n",
       "6     2.0\n",
       "7     1.0\n",
       "8     6.0\n",
       "9    10.0\n",
       "dtype: float64"
      ]
     },
     "execution_count": 43,
     "metadata": {},
     "output_type": "execute_result"
    }
   ],
   "source": [
    "s1.rank()"
   ]
  },
  {
   "cell_type": "code",
   "execution_count": 32,
   "id": "d4809e50",
   "metadata": {},
   "outputs": [],
   "source": [
    "df=pd.DataFrame(np.random.randn(20).reshape(4,5),columns=list('ABCDE'),index=['Kol','Del','Nk','Jal'])"
   ]
  },
  {
   "cell_type": "code",
   "execution_count": 33,
   "id": "c855d265",
   "metadata": {},
   "outputs": [
    {
     "data": {
      "text/html": [
       "<div>\n",
       "<style scoped>\n",
       "    .dataframe tbody tr th:only-of-type {\n",
       "        vertical-align: middle;\n",
       "    }\n",
       "\n",
       "    .dataframe tbody tr th {\n",
       "        vertical-align: top;\n",
       "    }\n",
       "\n",
       "    .dataframe thead th {\n",
       "        text-align: right;\n",
       "    }\n",
       "</style>\n",
       "<table border=\"1\" class=\"dataframe\">\n",
       "  <thead>\n",
       "    <tr style=\"text-align: right;\">\n",
       "      <th></th>\n",
       "      <th>A</th>\n",
       "      <th>B</th>\n",
       "      <th>C</th>\n",
       "      <th>D</th>\n",
       "      <th>E</th>\n",
       "    </tr>\n",
       "  </thead>\n",
       "  <tbody>\n",
       "    <tr>\n",
       "      <th>Kol</th>\n",
       "      <td>0.472109</td>\n",
       "      <td>1.342221</td>\n",
       "      <td>0.377024</td>\n",
       "      <td>-0.349382</td>\n",
       "      <td>0.647471</td>\n",
       "    </tr>\n",
       "    <tr>\n",
       "      <th>Del</th>\n",
       "      <td>-1.875535</td>\n",
       "      <td>0.540188</td>\n",
       "      <td>0.779061</td>\n",
       "      <td>-0.485381</td>\n",
       "      <td>0.164202</td>\n",
       "    </tr>\n",
       "    <tr>\n",
       "      <th>Nk</th>\n",
       "      <td>-1.239276</td>\n",
       "      <td>-0.547166</td>\n",
       "      <td>0.160478</td>\n",
       "      <td>-0.753698</td>\n",
       "      <td>-0.131472</td>\n",
       "    </tr>\n",
       "    <tr>\n",
       "      <th>Jal</th>\n",
       "      <td>-3.100650</td>\n",
       "      <td>-0.320411</td>\n",
       "      <td>0.914573</td>\n",
       "      <td>0.376784</td>\n",
       "      <td>1.030955</td>\n",
       "    </tr>\n",
       "  </tbody>\n",
       "</table>\n",
       "</div>"
      ],
      "text/plain": [
       "            A         B         C         D         E\n",
       "Kol  0.472109  1.342221  0.377024 -0.349382  0.647471\n",
       "Del -1.875535  0.540188  0.779061 -0.485381  0.164202\n",
       "Nk  -1.239276 -0.547166  0.160478 -0.753698 -0.131472\n",
       "Jal -3.100650 -0.320411  0.914573  0.376784  1.030955"
      ]
     },
     "execution_count": 33,
     "metadata": {},
     "output_type": "execute_result"
    }
   ],
   "source": [
    "df"
   ]
  },
  {
   "cell_type": "code",
   "execution_count": 35,
   "id": "cf95b70a",
   "metadata": {},
   "outputs": [
    {
     "data": {
      "text/html": [
       "<div>\n",
       "<style scoped>\n",
       "    .dataframe tbody tr th:only-of-type {\n",
       "        vertical-align: middle;\n",
       "    }\n",
       "\n",
       "    .dataframe tbody tr th {\n",
       "        vertical-align: top;\n",
       "    }\n",
       "\n",
       "    .dataframe thead th {\n",
       "        text-align: right;\n",
       "    }\n",
       "</style>\n",
       "<table border=\"1\" class=\"dataframe\">\n",
       "  <thead>\n",
       "    <tr style=\"text-align: right;\">\n",
       "      <th></th>\n",
       "      <th>A</th>\n",
       "      <th>B</th>\n",
       "      <th>C</th>\n",
       "      <th>D</th>\n",
       "      <th>E</th>\n",
       "    </tr>\n",
       "  </thead>\n",
       "  <tbody>\n",
       "    <tr>\n",
       "      <th>Del</th>\n",
       "      <td>-1.875535</td>\n",
       "      <td>0.540188</td>\n",
       "      <td>0.779061</td>\n",
       "      <td>-0.485381</td>\n",
       "      <td>0.164202</td>\n",
       "    </tr>\n",
       "    <tr>\n",
       "      <th>Jal</th>\n",
       "      <td>-3.100650</td>\n",
       "      <td>-0.320411</td>\n",
       "      <td>0.914573</td>\n",
       "      <td>0.376784</td>\n",
       "      <td>1.030955</td>\n",
       "    </tr>\n",
       "    <tr>\n",
       "      <th>Kol</th>\n",
       "      <td>0.472109</td>\n",
       "      <td>1.342221</td>\n",
       "      <td>0.377024</td>\n",
       "      <td>-0.349382</td>\n",
       "      <td>0.647471</td>\n",
       "    </tr>\n",
       "    <tr>\n",
       "      <th>Nk</th>\n",
       "      <td>-1.239276</td>\n",
       "      <td>-0.547166</td>\n",
       "      <td>0.160478</td>\n",
       "      <td>-0.753698</td>\n",
       "      <td>-0.131472</td>\n",
       "    </tr>\n",
       "  </tbody>\n",
       "</table>\n",
       "</div>"
      ],
      "text/plain": [
       "            A         B         C         D         E\n",
       "Del -1.875535  0.540188  0.779061 -0.485381  0.164202\n",
       "Jal -3.100650 -0.320411  0.914573  0.376784  1.030955\n",
       "Kol  0.472109  1.342221  0.377024 -0.349382  0.647471\n",
       "Nk  -1.239276 -0.547166  0.160478 -0.753698 -0.131472"
      ]
     },
     "execution_count": 35,
     "metadata": {},
     "output_type": "execute_result"
    }
   ],
   "source": [
    "df.sort_index()"
   ]
  },
  {
   "cell_type": "code",
   "execution_count": 47,
   "id": "9dffceb1",
   "metadata": {},
   "outputs": [
    {
     "data": {
      "text/html": [
       "<div>\n",
       "<style scoped>\n",
       "    .dataframe tbody tr th:only-of-type {\n",
       "        vertical-align: middle;\n",
       "    }\n",
       "\n",
       "    .dataframe tbody tr th {\n",
       "        vertical-align: top;\n",
       "    }\n",
       "\n",
       "    .dataframe thead th {\n",
       "        text-align: right;\n",
       "    }\n",
       "</style>\n",
       "<table border=\"1\" class=\"dataframe\">\n",
       "  <thead>\n",
       "    <tr style=\"text-align: right;\">\n",
       "      <th></th>\n",
       "      <th>A</th>\n",
       "      <th>B</th>\n",
       "      <th>C</th>\n",
       "      <th>D</th>\n",
       "      <th>E</th>\n",
       "    </tr>\n",
       "  </thead>\n",
       "  <tbody>\n",
       "    <tr>\n",
       "      <th>Jal</th>\n",
       "      <td>-3.100650</td>\n",
       "      <td>-0.320411</td>\n",
       "      <td>0.914573</td>\n",
       "      <td>0.376784</td>\n",
       "      <td>1.030955</td>\n",
       "    </tr>\n",
       "    <tr>\n",
       "      <th>Del</th>\n",
       "      <td>-1.875535</td>\n",
       "      <td>0.540188</td>\n",
       "      <td>0.779061</td>\n",
       "      <td>-0.485381</td>\n",
       "      <td>0.164202</td>\n",
       "    </tr>\n",
       "    <tr>\n",
       "      <th>Nk</th>\n",
       "      <td>-1.239276</td>\n",
       "      <td>-0.547166</td>\n",
       "      <td>0.160478</td>\n",
       "      <td>-0.753698</td>\n",
       "      <td>-0.131472</td>\n",
       "    </tr>\n",
       "    <tr>\n",
       "      <th>Kol</th>\n",
       "      <td>0.472109</td>\n",
       "      <td>1.342221</td>\n",
       "      <td>0.377024</td>\n",
       "      <td>-0.349382</td>\n",
       "      <td>0.647471</td>\n",
       "    </tr>\n",
       "  </tbody>\n",
       "</table>\n",
       "</div>"
      ],
      "text/plain": [
       "            A         B         C         D         E\n",
       "Jal -3.100650 -0.320411  0.914573  0.376784  1.030955\n",
       "Del -1.875535  0.540188  0.779061 -0.485381  0.164202\n",
       "Nk  -1.239276 -0.547166  0.160478 -0.753698 -0.131472\n",
       "Kol  0.472109  1.342221  0.377024 -0.349382  0.647471"
      ]
     },
     "execution_count": 47,
     "metadata": {},
     "output_type": "execute_result"
    }
   ],
   "source": [
    "df.sort_values(by='A')"
   ]
  },
  {
   "cell_type": "code",
   "execution_count": 48,
   "id": "1192cb97",
   "metadata": {},
   "outputs": [
    {
     "data": {
      "text/html": [
       "<div>\n",
       "<style scoped>\n",
       "    .dataframe tbody tr th:only-of-type {\n",
       "        vertical-align: middle;\n",
       "    }\n",
       "\n",
       "    .dataframe tbody tr th {\n",
       "        vertical-align: top;\n",
       "    }\n",
       "\n",
       "    .dataframe thead th {\n",
       "        text-align: right;\n",
       "    }\n",
       "</style>\n",
       "<table border=\"1\" class=\"dataframe\">\n",
       "  <thead>\n",
       "    <tr style=\"text-align: right;\">\n",
       "      <th></th>\n",
       "      <th>A</th>\n",
       "      <th>B</th>\n",
       "      <th>C</th>\n",
       "      <th>D</th>\n",
       "      <th>E</th>\n",
       "    </tr>\n",
       "  </thead>\n",
       "  <tbody>\n",
       "    <tr>\n",
       "      <th>Nk</th>\n",
       "      <td>-1.239276</td>\n",
       "      <td>-0.547166</td>\n",
       "      <td>0.160478</td>\n",
       "      <td>-0.753698</td>\n",
       "      <td>-0.131472</td>\n",
       "    </tr>\n",
       "    <tr>\n",
       "      <th>Del</th>\n",
       "      <td>-1.875535</td>\n",
       "      <td>0.540188</td>\n",
       "      <td>0.779061</td>\n",
       "      <td>-0.485381</td>\n",
       "      <td>0.164202</td>\n",
       "    </tr>\n",
       "    <tr>\n",
       "      <th>Kol</th>\n",
       "      <td>0.472109</td>\n",
       "      <td>1.342221</td>\n",
       "      <td>0.377024</td>\n",
       "      <td>-0.349382</td>\n",
       "      <td>0.647471</td>\n",
       "    </tr>\n",
       "    <tr>\n",
       "      <th>Jal</th>\n",
       "      <td>-3.100650</td>\n",
       "      <td>-0.320411</td>\n",
       "      <td>0.914573</td>\n",
       "      <td>0.376784</td>\n",
       "      <td>1.030955</td>\n",
       "    </tr>\n",
       "  </tbody>\n",
       "</table>\n",
       "</div>"
      ],
      "text/plain": [
       "            A         B         C         D         E\n",
       "Nk  -1.239276 -0.547166  0.160478 -0.753698 -0.131472\n",
       "Del -1.875535  0.540188  0.779061 -0.485381  0.164202\n",
       "Kol  0.472109  1.342221  0.377024 -0.349382  0.647471\n",
       "Jal -3.100650 -0.320411  0.914573  0.376784  1.030955"
      ]
     },
     "execution_count": 48,
     "metadata": {},
     "output_type": "execute_result"
    }
   ],
   "source": [
    "df.sort_values('E')"
   ]
  },
  {
   "cell_type": "code",
   "execution_count": null,
   "id": "1a03466d",
   "metadata": {},
   "outputs": [],
   "source": []
  }
 ],
 "metadata": {
  "kernelspec": {
   "display_name": "Python 3",
   "language": "python",
   "name": "python3"
  },
  "language_info": {
   "codemirror_mode": {
    "name": "ipython",
    "version": 3
   },
   "file_extension": ".py",
   "mimetype": "text/x-python",
   "name": "python",
   "nbconvert_exporter": "python",
   "pygments_lexer": "ipython3",
   "version": "3.7.9"
  }
 },
 "nbformat": 4,
 "nbformat_minor": 5
}
