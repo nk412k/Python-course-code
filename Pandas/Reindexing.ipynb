{
 "cells": [
  {
   "cell_type": "code",
   "execution_count": 3,
   "id": "07e2f9cb",
   "metadata": {},
   "outputs": [],
   "source": [
    "import pandas as pd\n",
    "import numpy as np"
   ]
  },
  {
   "cell_type": "code",
   "execution_count": 4,
   "id": "35879cea",
   "metadata": {},
   "outputs": [],
   "source": [
    "s=pd.Series([1,2,3,4],index=['a','b','c','d'])"
   ]
  },
  {
   "cell_type": "code",
   "execution_count": 5,
   "id": "04668132",
   "metadata": {},
   "outputs": [
    {
     "data": {
      "text/plain": [
       "a    1\n",
       "b    2\n",
       "c    3\n",
       "d    4\n",
       "dtype: int64"
      ]
     },
     "execution_count": 5,
     "metadata": {},
     "output_type": "execute_result"
    }
   ],
   "source": [
    "s"
   ]
  },
  {
   "cell_type": "code",
   "execution_count": 7,
   "id": "5b15722e",
   "metadata": {},
   "outputs": [
    {
     "data": {
      "text/plain": [
       "a    1\n",
       "b    2\n",
       "d    4\n",
       "c    3\n",
       "dtype: int64"
      ]
     },
     "execution_count": 7,
     "metadata": {},
     "output_type": "execute_result"
    }
   ],
   "source": [
    "s.reindex(['a','b','d','c'])"
   ]
  },
  {
   "cell_type": "code",
   "execution_count": 13,
   "id": "2bb45438",
   "metadata": {},
   "outputs": [],
   "source": [
    "s1=s.reindex(['a','b','d','c','e'])"
   ]
  },
  {
   "cell_type": "code",
   "execution_count": 14,
   "id": "50229fbd",
   "metadata": {},
   "outputs": [
    {
     "data": {
      "text/plain": [
       "a    1.0\n",
       "b    2.0\n",
       "d    4.0\n",
       "c    3.0\n",
       "e    NaN\n",
       "dtype: float64"
      ]
     },
     "execution_count": 14,
     "metadata": {},
     "output_type": "execute_result"
    }
   ],
   "source": [
    "s1"
   ]
  },
  {
   "cell_type": "code",
   "execution_count": 15,
   "id": "c7209668",
   "metadata": {},
   "outputs": [
    {
     "data": {
      "text/plain": [
       "a    1.0\n",
       "b    2.0\n",
       "d    4.0\n",
       "c    3.0\n",
       "e    NaN\n",
       "f    0.0\n",
       "g    0.0\n",
       "dtype: float64"
      ]
     },
     "execution_count": 15,
     "metadata": {},
     "output_type": "execute_result"
    }
   ],
   "source": [
    "s1.reindex(['a','b','d','c','e','f','g'],fill_value=0)"
   ]
  },
  {
   "cell_type": "code",
   "execution_count": 16,
   "id": "3229f8eb",
   "metadata": {},
   "outputs": [],
   "source": [
    "s2=pd.Series(['USA','UK','RUsia'],index=[0,5,10])"
   ]
  },
  {
   "cell_type": "code",
   "execution_count": 17,
   "id": "e9907484",
   "metadata": {},
   "outputs": [
    {
     "data": {
      "text/plain": [
       "0       USA\n",
       "5        UK\n",
       "10    RUsia\n",
       "dtype: object"
      ]
     },
     "execution_count": 17,
     "metadata": {},
     "output_type": "execute_result"
    }
   ],
   "source": [
    "s2"
   ]
  },
  {
   "cell_type": "code",
   "execution_count": 18,
   "id": "ba8990ba",
   "metadata": {},
   "outputs": [
    {
     "data": {
      "text/plain": [
       "0       USA\n",
       "1       USA\n",
       "2       USA\n",
       "3       USA\n",
       "4       USA\n",
       "5        UK\n",
       "6        UK\n",
       "7        UK\n",
       "8        UK\n",
       "9        UK\n",
       "10    RUsia\n",
       "11    RUsia\n",
       "12    RUsia\n",
       "13    RUsia\n",
       "14    RUsia\n",
       "dtype: object"
      ]
     },
     "execution_count": 18,
     "metadata": {},
     "output_type": "execute_result"
    }
   ],
   "source": [
    "s2.reindex(range(15),method='ffill')"
   ]
  },
  {
   "cell_type": "code",
   "execution_count": 19,
   "id": "2567ffd1",
   "metadata": {},
   "outputs": [
    {
     "data": {
      "text/plain": [
       "0       USA\n",
       "5        UK\n",
       "10    RUsia\n",
       "dtype: object"
      ]
     },
     "execution_count": 19,
     "metadata": {},
     "output_type": "execute_result"
    }
   ],
   "source": [
    "s2"
   ]
  },
  {
   "cell_type": "code",
   "execution_count": 21,
   "id": "5fc1c015",
   "metadata": {},
   "outputs": [
    {
     "data": {
      "text/plain": [
       "0       USA\n",
       "1        UK\n",
       "2        UK\n",
       "3        UK\n",
       "4        UK\n",
       "5        UK\n",
       "6     RUsia\n",
       "7     RUsia\n",
       "8     RUsia\n",
       "9     RUsia\n",
       "10    RUsia\n",
       "11      NaN\n",
       "12      NaN\n",
       "13      NaN\n",
       "14      NaN\n",
       "dtype: object"
      ]
     },
     "execution_count": 21,
     "metadata": {},
     "output_type": "execute_result"
    }
   ],
   "source": [
    "s2.reindex(range(15),method='bfill')"
   ]
  },
  {
   "cell_type": "code",
   "execution_count": 39,
   "id": "a7a96aae",
   "metadata": {},
   "outputs": [],
   "source": [
    "df=pd.DataFrame(np.random.randn(25).reshape((5,5)),index=['a','b','c','d','e'],columns=['col1','col2','col3','col4','col5'])"
   ]
  },
  {
   "cell_type": "code",
   "execution_count": 40,
   "id": "293a3562",
   "metadata": {},
   "outputs": [
    {
     "data": {
      "text/html": [
       "<div>\n",
       "<style scoped>\n",
       "    .dataframe tbody tr th:only-of-type {\n",
       "        vertical-align: middle;\n",
       "    }\n",
       "\n",
       "    .dataframe tbody tr th {\n",
       "        vertical-align: top;\n",
       "    }\n",
       "\n",
       "    .dataframe thead th {\n",
       "        text-align: right;\n",
       "    }\n",
       "</style>\n",
       "<table border=\"1\" class=\"dataframe\">\n",
       "  <thead>\n",
       "    <tr style=\"text-align: right;\">\n",
       "      <th></th>\n",
       "      <th>col1</th>\n",
       "      <th>col2</th>\n",
       "      <th>col3</th>\n",
       "      <th>col4</th>\n",
       "      <th>col5</th>\n",
       "    </tr>\n",
       "  </thead>\n",
       "  <tbody>\n",
       "    <tr>\n",
       "      <th>a</th>\n",
       "      <td>-0.832983</td>\n",
       "      <td>-1.820823</td>\n",
       "      <td>0.636145</td>\n",
       "      <td>1.120383</td>\n",
       "      <td>1.001933</td>\n",
       "    </tr>\n",
       "    <tr>\n",
       "      <th>b</th>\n",
       "      <td>-1.765735</td>\n",
       "      <td>-0.899651</td>\n",
       "      <td>-0.471367</td>\n",
       "      <td>-1.226878</td>\n",
       "      <td>1.184037</td>\n",
       "    </tr>\n",
       "    <tr>\n",
       "      <th>c</th>\n",
       "      <td>-0.343876</td>\n",
       "      <td>2.007132</td>\n",
       "      <td>0.178910</td>\n",
       "      <td>-0.119775</td>\n",
       "      <td>-0.708979</td>\n",
       "    </tr>\n",
       "    <tr>\n",
       "      <th>d</th>\n",
       "      <td>-0.495014</td>\n",
       "      <td>-0.863331</td>\n",
       "      <td>-0.871088</td>\n",
       "      <td>-0.172353</td>\n",
       "      <td>1.345041</td>\n",
       "    </tr>\n",
       "    <tr>\n",
       "      <th>e</th>\n",
       "      <td>-0.247099</td>\n",
       "      <td>0.023278</td>\n",
       "      <td>-0.521160</td>\n",
       "      <td>0.827198</td>\n",
       "      <td>-2.010632</td>\n",
       "    </tr>\n",
       "  </tbody>\n",
       "</table>\n",
       "</div>"
      ],
      "text/plain": [
       "       col1      col2      col3      col4      col5\n",
       "a -0.832983 -1.820823  0.636145  1.120383  1.001933\n",
       "b -1.765735 -0.899651 -0.471367 -1.226878  1.184037\n",
       "c -0.343876  2.007132  0.178910 -0.119775 -0.708979\n",
       "d -0.495014 -0.863331 -0.871088 -0.172353  1.345041\n",
       "e -0.247099  0.023278 -0.521160  0.827198 -2.010632"
      ]
     },
     "execution_count": 40,
     "metadata": {},
     "output_type": "execute_result"
    }
   ],
   "source": [
    "df"
   ]
  },
  {
   "cell_type": "code",
   "execution_count": 42,
   "id": "cc7acd93",
   "metadata": {},
   "outputs": [
    {
     "data": {
      "text/html": [
       "<div>\n",
       "<style scoped>\n",
       "    .dataframe tbody tr th:only-of-type {\n",
       "        vertical-align: middle;\n",
       "    }\n",
       "\n",
       "    .dataframe tbody tr th {\n",
       "        vertical-align: top;\n",
       "    }\n",
       "\n",
       "    .dataframe thead th {\n",
       "        text-align: right;\n",
       "    }\n",
       "</style>\n",
       "<table border=\"1\" class=\"dataframe\">\n",
       "  <thead>\n",
       "    <tr style=\"text-align: right;\">\n",
       "      <th></th>\n",
       "      <th>col1</th>\n",
       "      <th>col2</th>\n",
       "      <th>col3</th>\n",
       "      <th>col4</th>\n",
       "      <th>col5</th>\n",
       "    </tr>\n",
       "  </thead>\n",
       "  <tbody>\n",
       "    <tr>\n",
       "      <th>a</th>\n",
       "      <td>-0.832983</td>\n",
       "      <td>-1.820823</td>\n",
       "      <td>0.636145</td>\n",
       "      <td>1.120383</td>\n",
       "      <td>1.001933</td>\n",
       "    </tr>\n",
       "    <tr>\n",
       "      <th>b</th>\n",
       "      <td>-1.765735</td>\n",
       "      <td>-0.899651</td>\n",
       "      <td>-0.471367</td>\n",
       "      <td>-1.226878</td>\n",
       "      <td>1.184037</td>\n",
       "    </tr>\n",
       "    <tr>\n",
       "      <th>c</th>\n",
       "      <td>-0.343876</td>\n",
       "      <td>2.007132</td>\n",
       "      <td>0.178910</td>\n",
       "      <td>-0.119775</td>\n",
       "      <td>-0.708979</td>\n",
       "    </tr>\n",
       "    <tr>\n",
       "      <th>d</th>\n",
       "      <td>-0.495014</td>\n",
       "      <td>-0.863331</td>\n",
       "      <td>-0.871088</td>\n",
       "      <td>-0.172353</td>\n",
       "      <td>1.345041</td>\n",
       "    </tr>\n",
       "    <tr>\n",
       "      <th>e</th>\n",
       "      <td>-0.247099</td>\n",
       "      <td>0.023278</td>\n",
       "      <td>-0.521160</td>\n",
       "      <td>0.827198</td>\n",
       "      <td>-2.010632</td>\n",
       "    </tr>\n",
       "    <tr>\n",
       "      <th>f</th>\n",
       "      <td>0.000000</td>\n",
       "      <td>0.000000</td>\n",
       "      <td>0.000000</td>\n",
       "      <td>0.000000</td>\n",
       "      <td>0.000000</td>\n",
       "    </tr>\n",
       "  </tbody>\n",
       "</table>\n",
       "</div>"
      ],
      "text/plain": [
       "       col1      col2      col3      col4      col5\n",
       "a -0.832983 -1.820823  0.636145  1.120383  1.001933\n",
       "b -1.765735 -0.899651 -0.471367 -1.226878  1.184037\n",
       "c -0.343876  2.007132  0.178910 -0.119775 -0.708979\n",
       "d -0.495014 -0.863331 -0.871088 -0.172353  1.345041\n",
       "e -0.247099  0.023278 -0.521160  0.827198 -2.010632\n",
       "f  0.000000  0.000000  0.000000  0.000000  0.000000"
      ]
     },
     "execution_count": 42,
     "metadata": {},
     "output_type": "execute_result"
    }
   ],
   "source": [
    "df.reindex(['a','b','c','d','e','f'])"
   ]
  },
  {
   "cell_type": "code",
   "execution_count": 43,
   "id": "33633539",
   "metadata": {},
   "outputs": [
    {
     "data": {
      "text/html": [
       "<div>\n",
       "<style scoped>\n",
       "    .dataframe tbody tr th:only-of-type {\n",
       "        vertical-align: middle;\n",
       "    }\n",
       "\n",
       "    .dataframe tbody tr th {\n",
       "        vertical-align: top;\n",
       "    }\n",
       "\n",
       "    .dataframe thead th {\n",
       "        text-align: right;\n",
       "    }\n",
       "</style>\n",
       "<table border=\"1\" class=\"dataframe\">\n",
       "  <thead>\n",
       "    <tr style=\"text-align: right;\">\n",
       "      <th></th>\n",
       "      <th>col1</th>\n",
       "      <th>col2</th>\n",
       "      <th>col3</th>\n",
       "      <th>col4</th>\n",
       "      <th>col5</th>\n",
       "    </tr>\n",
       "  </thead>\n",
       "  <tbody>\n",
       "    <tr>\n",
       "      <th>a</th>\n",
       "      <td>-0.832983</td>\n",
       "      <td>-1.820823</td>\n",
       "      <td>0.636145</td>\n",
       "      <td>1.120383</td>\n",
       "      <td>1.001933</td>\n",
       "    </tr>\n",
       "    <tr>\n",
       "      <th>b</th>\n",
       "      <td>-1.765735</td>\n",
       "      <td>-0.899651</td>\n",
       "      <td>-0.471367</td>\n",
       "      <td>-1.226878</td>\n",
       "      <td>1.184037</td>\n",
       "    </tr>\n",
       "    <tr>\n",
       "      <th>c</th>\n",
       "      <td>-0.343876</td>\n",
       "      <td>2.007132</td>\n",
       "      <td>0.178910</td>\n",
       "      <td>-0.119775</td>\n",
       "      <td>-0.708979</td>\n",
       "    </tr>\n",
       "    <tr>\n",
       "      <th>d</th>\n",
       "      <td>-0.495014</td>\n",
       "      <td>-0.863331</td>\n",
       "      <td>-0.871088</td>\n",
       "      <td>-0.172353</td>\n",
       "      <td>1.345041</td>\n",
       "    </tr>\n",
       "    <tr>\n",
       "      <th>e</th>\n",
       "      <td>-0.247099</td>\n",
       "      <td>0.023278</td>\n",
       "      <td>-0.521160</td>\n",
       "      <td>0.827198</td>\n",
       "      <td>-2.010632</td>\n",
       "    </tr>\n",
       "    <tr>\n",
       "      <th>f</th>\n",
       "      <td>0.000000</td>\n",
       "      <td>0.000000</td>\n",
       "      <td>0.000000</td>\n",
       "      <td>0.000000</td>\n",
       "      <td>0.000000</td>\n",
       "    </tr>\n",
       "  </tbody>\n",
       "</table>\n",
       "</div>"
      ],
      "text/plain": [
       "       col1      col2      col3      col4      col5\n",
       "a -0.832983 -1.820823  0.636145  1.120383  1.001933\n",
       "b -1.765735 -0.899651 -0.471367 -1.226878  1.184037\n",
       "c -0.343876  2.007132  0.178910 -0.119775 -0.708979\n",
       "d -0.495014 -0.863331 -0.871088 -0.172353  1.345041\n",
       "e -0.247099  0.023278 -0.521160  0.827198 -2.010632\n",
       "f  0.000000  0.000000  0.000000  0.000000  0.000000"
      ]
     },
     "execution_count": 43,
     "metadata": {},
     "output_type": "execute_result"
    }
   ],
   "source": [
    "df.reindex(['a','b','c','d','e','f'],fill_value=0)"
   ]
  },
  {
   "cell_type": "code",
   "execution_count": 36,
   "id": "97a31714",
   "metadata": {},
   "outputs": [
    {
     "data": {
      "text/html": [
       "<div>\n",
       "<style scoped>\n",
       "    .dataframe tbody tr th:only-of-type {\n",
       "        vertical-align: middle;\n",
       "    }\n",
       "\n",
       "    .dataframe tbody tr th {\n",
       "        vertical-align: top;\n",
       "    }\n",
       "\n",
       "    .dataframe thead th {\n",
       "        text-align: right;\n",
       "    }\n",
       "</style>\n",
       "<table border=\"1\" class=\"dataframe\">\n",
       "  <thead>\n",
       "    <tr style=\"text-align: right;\">\n",
       "      <th></th>\n",
       "      <th>col1</th>\n",
       "      <th>col2</th>\n",
       "      <th>col3</th>\n",
       "      <th>col4</th>\n",
       "      <th>col5</th>\n",
       "      <th>col6</th>\n",
       "    </tr>\n",
       "  </thead>\n",
       "  <tbody>\n",
       "    <tr>\n",
       "      <th>a</th>\n",
       "      <td>2.540661</td>\n",
       "      <td>0.699055</td>\n",
       "      <td>0.392282</td>\n",
       "      <td>-0.073893</td>\n",
       "      <td>0.059543</td>\n",
       "      <td>NaN</td>\n",
       "    </tr>\n",
       "    <tr>\n",
       "      <th>b</th>\n",
       "      <td>-0.427890</td>\n",
       "      <td>-0.483362</td>\n",
       "      <td>-0.708371</td>\n",
       "      <td>-1.411742</td>\n",
       "      <td>0.150137</td>\n",
       "      <td>NaN</td>\n",
       "    </tr>\n",
       "    <tr>\n",
       "      <th>c</th>\n",
       "      <td>2.252743</td>\n",
       "      <td>1.733160</td>\n",
       "      <td>0.359338</td>\n",
       "      <td>0.329606</td>\n",
       "      <td>-0.248397</td>\n",
       "      <td>NaN</td>\n",
       "    </tr>\n",
       "    <tr>\n",
       "      <th>d</th>\n",
       "      <td>-0.576278</td>\n",
       "      <td>0.226601</td>\n",
       "      <td>-1.111400</td>\n",
       "      <td>0.138213</td>\n",
       "      <td>-1.647839</td>\n",
       "      <td>NaN</td>\n",
       "    </tr>\n",
       "    <tr>\n",
       "      <th>e</th>\n",
       "      <td>0.281478</td>\n",
       "      <td>-0.636566</td>\n",
       "      <td>-0.982262</td>\n",
       "      <td>1.121354</td>\n",
       "      <td>0.445853</td>\n",
       "      <td>NaN</td>\n",
       "    </tr>\n",
       "    <tr>\n",
       "      <th>f</th>\n",
       "      <td>NaN</td>\n",
       "      <td>NaN</td>\n",
       "      <td>NaN</td>\n",
       "      <td>NaN</td>\n",
       "      <td>NaN</td>\n",
       "      <td>NaN</td>\n",
       "    </tr>\n",
       "  </tbody>\n",
       "</table>\n",
       "</div>"
      ],
      "text/plain": [
       "       col1      col2      col3      col4      col5  col6\n",
       "a  2.540661  0.699055  0.392282 -0.073893  0.059543   NaN\n",
       "b -0.427890 -0.483362 -0.708371 -1.411742  0.150137   NaN\n",
       "c  2.252743  1.733160  0.359338  0.329606 -0.248397   NaN\n",
       "d -0.576278  0.226601 -1.111400  0.138213 -1.647839   NaN\n",
       "e  0.281478 -0.636566 -0.982262  1.121354  0.445853   NaN\n",
       "f       NaN       NaN       NaN       NaN       NaN   NaN"
      ]
     },
     "execution_count": 36,
     "metadata": {},
     "output_type": "execute_result"
    }
   ],
   "source": [
    "df.reindex(columns=['col1','col2','col3','col4','col5','col6'])"
   ]
  },
  {
   "cell_type": "code",
   "execution_count": 28,
   "id": "36bc4b12",
   "metadata": {},
   "outputs": [
    {
     "data": {
      "text/html": [
       "<div>\n",
       "<style scoped>\n",
       "    .dataframe tbody tr th:only-of-type {\n",
       "        vertical-align: middle;\n",
       "    }\n",
       "\n",
       "    .dataframe tbody tr th {\n",
       "        vertical-align: top;\n",
       "    }\n",
       "\n",
       "    .dataframe thead th {\n",
       "        text-align: right;\n",
       "    }\n",
       "</style>\n",
       "<table border=\"1\" class=\"dataframe\">\n",
       "  <thead>\n",
       "    <tr style=\"text-align: right;\">\n",
       "      <th></th>\n",
       "      <th>col1</th>\n",
       "      <th>col2</th>\n",
       "      <th>col3</th>\n",
       "      <th>col4</th>\n",
       "      <th>col5</th>\n",
       "    </tr>\n",
       "  </thead>\n",
       "  <tbody>\n",
       "    <tr>\n",
       "      <th>a</th>\n",
       "      <td>2.540661</td>\n",
       "      <td>0.699055</td>\n",
       "      <td>0.392282</td>\n",
       "      <td>-0.073893</td>\n",
       "      <td>0.059543</td>\n",
       "    </tr>\n",
       "    <tr>\n",
       "      <th>b</th>\n",
       "      <td>-0.427890</td>\n",
       "      <td>-0.483362</td>\n",
       "      <td>-0.708371</td>\n",
       "      <td>-1.411742</td>\n",
       "      <td>0.150137</td>\n",
       "    </tr>\n",
       "    <tr>\n",
       "      <th>c</th>\n",
       "      <td>2.252743</td>\n",
       "      <td>1.733160</td>\n",
       "      <td>0.359338</td>\n",
       "      <td>0.329606</td>\n",
       "      <td>-0.248397</td>\n",
       "    </tr>\n",
       "    <tr>\n",
       "      <th>d</th>\n",
       "      <td>-0.576278</td>\n",
       "      <td>0.226601</td>\n",
       "      <td>-1.111400</td>\n",
       "      <td>0.138213</td>\n",
       "      <td>-1.647839</td>\n",
       "    </tr>\n",
       "    <tr>\n",
       "      <th>e</th>\n",
       "      <td>0.281478</td>\n",
       "      <td>-0.636566</td>\n",
       "      <td>-0.982262</td>\n",
       "      <td>1.121354</td>\n",
       "      <td>0.445853</td>\n",
       "    </tr>\n",
       "  </tbody>\n",
       "</table>\n",
       "</div>"
      ],
      "text/plain": [
       "       col1      col2      col3      col4      col5\n",
       "a  2.540661  0.699055  0.392282 -0.073893  0.059543\n",
       "b -0.427890 -0.483362 -0.708371 -1.411742  0.150137\n",
       "c  2.252743  1.733160  0.359338  0.329606 -0.248397\n",
       "d -0.576278  0.226601 -1.111400  0.138213 -1.647839\n",
       "e  0.281478 -0.636566 -0.982262  1.121354  0.445853"
      ]
     },
     "execution_count": 28,
     "metadata": {},
     "output_type": "execute_result"
    }
   ],
   "source": [
    "df"
   ]
  },
  {
   "cell_type": "code",
   "execution_count": 33,
   "id": "69e625ab",
   "metadata": {},
   "outputs": [
    {
     "name": "stderr",
     "output_type": "stream",
     "text": [
      "C:\\Users\\hp\\Anaconda3\\lib\\site-packages\\ipykernel_launcher.py:1: FutureWarning: Interpreting call\n",
      "\t'.reindex(a, b)' as \n",
      "\t'.reindex(index=a, columns=b)'.\n",
      "Use named arguments to remove any ambiguity. In the future, using positional arguments for 'index' or 'columns' will raise a 'TypeError'.\n",
      "  \"\"\"Entry point for launching an IPython kernel.\n"
     ]
    }
   ],
   "source": [
    "df=df.reindex(['a','b','c','d','e','f'],['col1','col2','col3','col4','col5','col6'])"
   ]
  },
  {
   "cell_type": "code",
   "execution_count": 34,
   "id": "01709518",
   "metadata": {},
   "outputs": [
    {
     "data": {
      "text/html": [
       "<div>\n",
       "<style scoped>\n",
       "    .dataframe tbody tr th:only-of-type {\n",
       "        vertical-align: middle;\n",
       "    }\n",
       "\n",
       "    .dataframe tbody tr th {\n",
       "        vertical-align: top;\n",
       "    }\n",
       "\n",
       "    .dataframe thead th {\n",
       "        text-align: right;\n",
       "    }\n",
       "</style>\n",
       "<table border=\"1\" class=\"dataframe\">\n",
       "  <thead>\n",
       "    <tr style=\"text-align: right;\">\n",
       "      <th></th>\n",
       "      <th>col1</th>\n",
       "      <th>col2</th>\n",
       "      <th>col3</th>\n",
       "      <th>col4</th>\n",
       "      <th>col5</th>\n",
       "      <th>col6</th>\n",
       "    </tr>\n",
       "  </thead>\n",
       "  <tbody>\n",
       "    <tr>\n",
       "      <th>a</th>\n",
       "      <td>2.540661</td>\n",
       "      <td>0.699055</td>\n",
       "      <td>0.392282</td>\n",
       "      <td>-0.073893</td>\n",
       "      <td>0.059543</td>\n",
       "      <td>NaN</td>\n",
       "    </tr>\n",
       "    <tr>\n",
       "      <th>b</th>\n",
       "      <td>-0.427890</td>\n",
       "      <td>-0.483362</td>\n",
       "      <td>-0.708371</td>\n",
       "      <td>-1.411742</td>\n",
       "      <td>0.150137</td>\n",
       "      <td>NaN</td>\n",
       "    </tr>\n",
       "    <tr>\n",
       "      <th>c</th>\n",
       "      <td>2.252743</td>\n",
       "      <td>1.733160</td>\n",
       "      <td>0.359338</td>\n",
       "      <td>0.329606</td>\n",
       "      <td>-0.248397</td>\n",
       "      <td>NaN</td>\n",
       "    </tr>\n",
       "    <tr>\n",
       "      <th>d</th>\n",
       "      <td>-0.576278</td>\n",
       "      <td>0.226601</td>\n",
       "      <td>-1.111400</td>\n",
       "      <td>0.138213</td>\n",
       "      <td>-1.647839</td>\n",
       "      <td>NaN</td>\n",
       "    </tr>\n",
       "    <tr>\n",
       "      <th>e</th>\n",
       "      <td>0.281478</td>\n",
       "      <td>-0.636566</td>\n",
       "      <td>-0.982262</td>\n",
       "      <td>1.121354</td>\n",
       "      <td>0.445853</td>\n",
       "      <td>NaN</td>\n",
       "    </tr>\n",
       "    <tr>\n",
       "      <th>f</th>\n",
       "      <td>NaN</td>\n",
       "      <td>NaN</td>\n",
       "      <td>NaN</td>\n",
       "      <td>NaN</td>\n",
       "      <td>NaN</td>\n",
       "      <td>NaN</td>\n",
       "    </tr>\n",
       "  </tbody>\n",
       "</table>\n",
       "</div>"
      ],
      "text/plain": [
       "       col1      col2      col3      col4      col5  col6\n",
       "a  2.540661  0.699055  0.392282 -0.073893  0.059543   NaN\n",
       "b -0.427890 -0.483362 -0.708371 -1.411742  0.150137   NaN\n",
       "c  2.252743  1.733160  0.359338  0.329606 -0.248397   NaN\n",
       "d -0.576278  0.226601 -1.111400  0.138213 -1.647839   NaN\n",
       "e  0.281478 -0.636566 -0.982262  1.121354  0.445853   NaN\n",
       "f       NaN       NaN       NaN       NaN       NaN   NaN"
      ]
     },
     "execution_count": 34,
     "metadata": {},
     "output_type": "execute_result"
    }
   ],
   "source": [
    "df"
   ]
  },
  {
   "cell_type": "code",
   "execution_count": null,
   "id": "f4e3ccd4",
   "metadata": {},
   "outputs": [],
   "source": []
  }
 ],
 "metadata": {
  "kernelspec": {
   "display_name": "Python 3",
   "language": "python",
   "name": "python3"
  },
  "language_info": {
   "codemirror_mode": {
    "name": "ipython",
    "version": 3
   },
   "file_extension": ".py",
   "mimetype": "text/x-python",
   "name": "python",
   "nbconvert_exporter": "python",
   "pygments_lexer": "ipython3",
   "version": "3.7.9"
  }
 },
 "nbformat": 4,
 "nbformat_minor": 5
}
