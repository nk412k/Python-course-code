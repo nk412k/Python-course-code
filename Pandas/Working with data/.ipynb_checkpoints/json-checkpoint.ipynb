{
 "cells": [
  {
   "cell_type": "code",
   "execution_count": 1,
   "id": "71073633",
   "metadata": {},
   "outputs": [],
   "source": [
    "import pandas as pd\n",
    "import json"
   ]
  },
  {
   "cell_type": "code",
   "execution_count": 7,
   "id": "7d23dfce",
   "metadata": {},
   "outputs": [],
   "source": [
    "json_obj=\"\"\"\n",
    "[{\n",
    "    \"ID\": 1,\n",
    "    \"Address\": \"3666 21st St\",\n",
    "    \"City\": \"San Francisco\",\n",
    "    \"State\": \"CA 94114\",\n",
    "    \"Country\": \"USA\",\n",
    "    \"Name\": \"Madeira\",\n",
    "    \"Employees\": 8\n",
    "  },\n",
    "  {\n",
    "    \"ID\": 2,\n",
    "    \"Address\": \"735 Dolores St\",\n",
    "    \"City\": \"San Francisco\",\n",
    "    \"State\": \"CA 94119\",\n",
    "    \"Country\": \"USA\",\n",
    "    \"Name\": \"Bready Shop\",\n",
    "    \"Employees\": 15\n",
    "  },\n",
    "  {\n",
    "    \"ID\": 3,\n",
    "    \"Address\": \"332 Hill St\",\n",
    "    \"City\": \"San Francisco\",\n",
    "    \"State\": \"California 94114\",\n",
    "    \"Country\": \"USA\",\n",
    "    \"Name\": \"Super River\",\n",
    "    \"Employees\": 25\n",
    "  },\n",
    "  {\n",
    "    \"ID\": 4,\n",
    "    \"Address\": \"3995 23rd St\",\n",
    "    \"City\": \"San Francisco\",\n",
    "    \"State\": \"CA 94114\",\n",
    "    \"Country\": \"USA\",\n",
    "    \"Name\": \"Ben's Shop\",\n",
    "    \"Employees\": 10\n",
    "  },\n",
    "  {\n",
    "    \"ID\": 5,\n",
    "    \"Address\": \"1056 Sanchez St\",\n",
    "    \"City\": \"San Francisco\",\n",
    "    \"State\": \"California\",\n",
    "    \"Country\": \"USA\",\n",
    "    \"Name\": \"Sanchez\",\n",
    "    \"Employees\": 12\n",
    "  },\n",
    "  {\n",
    "    \"ID\": 6,\n",
    "    \"Address\": \"551 Alvarado St\",\n",
    "    \"City\": \"San Francisco\",\n",
    "    \"State\": \"CA 94114\",\n",
    "    \"Country\": \"USA\",\n",
    "    \"Name\": \"Richvalley\",\n",
    "    \"Employees\": 20\n",
    "  }]\n",
    "\"\"\""
   ]
  },
  {
   "cell_type": "code",
   "execution_count": 8,
   "id": "248747fc",
   "metadata": {},
   "outputs": [],
   "source": [
    "data=json.loads(json_obj)"
   ]
  },
  {
   "cell_type": "code",
   "execution_count": 9,
   "id": "956593d0",
   "metadata": {},
   "outputs": [
    {
     "data": {
      "text/plain": [
       "[{'ID': 1,\n",
       "  'Address': '3666 21st St',\n",
       "  'City': 'San Francisco',\n",
       "  'State': 'CA 94114',\n",
       "  'Country': 'USA',\n",
       "  'Name': 'Madeira',\n",
       "  'Employees': 8},\n",
       " {'ID': 2,\n",
       "  'Address': '735 Dolores St',\n",
       "  'City': 'San Francisco',\n",
       "  'State': 'CA 94119',\n",
       "  'Country': 'USA',\n",
       "  'Name': 'Bready Shop',\n",
       "  'Employees': 15},\n",
       " {'ID': 3,\n",
       "  'Address': '332 Hill St',\n",
       "  'City': 'San Francisco',\n",
       "  'State': 'California 94114',\n",
       "  'Country': 'USA',\n",
       "  'Name': 'Super River',\n",
       "  'Employees': 25},\n",
       " {'ID': 4,\n",
       "  'Address': '3995 23rd St',\n",
       "  'City': 'San Francisco',\n",
       "  'State': 'CA 94114',\n",
       "  'Country': 'USA',\n",
       "  'Name': \"Ben's Shop\",\n",
       "  'Employees': 10},\n",
       " {'ID': 5,\n",
       "  'Address': '1056 Sanchez St',\n",
       "  'City': 'San Francisco',\n",
       "  'State': 'California',\n",
       "  'Country': 'USA',\n",
       "  'Name': 'Sanchez',\n",
       "  'Employees': 12},\n",
       " {'ID': 6,\n",
       "  'Address': '551 Alvarado St',\n",
       "  'City': 'San Francisco',\n",
       "  'State': 'CA 94114',\n",
       "  'Country': 'USA',\n",
       "  'Name': 'Richvalley',\n",
       "  'Employees': 20}]"
      ]
     },
     "execution_count": 9,
     "metadata": {},
     "output_type": "execute_result"
    }
   ],
   "source": [
    "data"
   ]
  },
  {
   "cell_type": "code",
   "execution_count": 19,
   "id": "a6bdb9c8",
   "metadata": {},
   "outputs": [
    {
     "data": {
      "text/plain": [
       "'[{\"ID\": 1, \"Address\": \"3666 21st St\", \"City\": \"San Francisco\", \"State\": \"CA 94114\", \"Country\": \"USA\", \"Name\": \"Madeira\", \"Employees\": 8}, {\"ID\": 2, \"Address\": \"735 Dolores St\", \"City\": \"San Francisco\", \"State\": \"CA 94119\", \"Country\": \"USA\", \"Name\": \"Bready Shop\", \"Employees\": 15}, {\"ID\": 3, \"Address\": \"332 Hill St\", \"City\": \"San Francisco\", \"State\": \"California 94114\", \"Country\": \"USA\", \"Name\": \"Super River\", \"Employees\": 25}, {\"ID\": 4, \"Address\": \"3995 23rd St\", \"City\": \"San Francisco\", \"State\": \"CA 94114\", \"Country\": \"USA\", \"Name\": \"Ben\\'s Shop\", \"Employees\": 10}, {\"ID\": 5, \"Address\": \"1056 Sanchez St\", \"City\": \"San Francisco\", \"State\": \"California\", \"Country\": \"USA\", \"Name\": \"Sanchez\", \"Employees\": 12}, {\"ID\": 6, \"Address\": \"551 Alvarado St\", \"City\": \"San Francisco\", \"State\": \"CA 94114\", \"Country\": \"USA\", \"Name\": \"Richvalley\", \"Employees\": 20}]'"
      ]
     },
     "execution_count": 19,
     "metadata": {},
     "output_type": "execute_result"
    }
   ],
   "source": [
    "json.dumps(data)"
   ]
  },
  {
   "cell_type": "code",
   "execution_count": 21,
   "id": "3938f113",
   "metadata": {},
   "outputs": [],
   "source": [
    "df=pd.DataFrame(data)"
   ]
  },
  {
   "cell_type": "code",
   "execution_count": 22,
   "id": "50f96572",
   "metadata": {},
   "outputs": [
    {
     "data": {
      "text/html": [
       "<div>\n",
       "<style scoped>\n",
       "    .dataframe tbody tr th:only-of-type {\n",
       "        vertical-align: middle;\n",
       "    }\n",
       "\n",
       "    .dataframe tbody tr th {\n",
       "        vertical-align: top;\n",
       "    }\n",
       "\n",
       "    .dataframe thead th {\n",
       "        text-align: right;\n",
       "    }\n",
       "</style>\n",
       "<table border=\"1\" class=\"dataframe\">\n",
       "  <thead>\n",
       "    <tr style=\"text-align: right;\">\n",
       "      <th></th>\n",
       "      <th>ID</th>\n",
       "      <th>Address</th>\n",
       "      <th>City</th>\n",
       "      <th>State</th>\n",
       "      <th>Country</th>\n",
       "      <th>Name</th>\n",
       "      <th>Employees</th>\n",
       "    </tr>\n",
       "  </thead>\n",
       "  <tbody>\n",
       "    <tr>\n",
       "      <th>0</th>\n",
       "      <td>1</td>\n",
       "      <td>3666 21st St</td>\n",
       "      <td>San Francisco</td>\n",
       "      <td>CA 94114</td>\n",
       "      <td>USA</td>\n",
       "      <td>Madeira</td>\n",
       "      <td>8</td>\n",
       "    </tr>\n",
       "    <tr>\n",
       "      <th>1</th>\n",
       "      <td>2</td>\n",
       "      <td>735 Dolores St</td>\n",
       "      <td>San Francisco</td>\n",
       "      <td>CA 94119</td>\n",
       "      <td>USA</td>\n",
       "      <td>Bready Shop</td>\n",
       "      <td>15</td>\n",
       "    </tr>\n",
       "    <tr>\n",
       "      <th>2</th>\n",
       "      <td>3</td>\n",
       "      <td>332 Hill St</td>\n",
       "      <td>San Francisco</td>\n",
       "      <td>California 94114</td>\n",
       "      <td>USA</td>\n",
       "      <td>Super River</td>\n",
       "      <td>25</td>\n",
       "    </tr>\n",
       "    <tr>\n",
       "      <th>3</th>\n",
       "      <td>4</td>\n",
       "      <td>3995 23rd St</td>\n",
       "      <td>San Francisco</td>\n",
       "      <td>CA 94114</td>\n",
       "      <td>USA</td>\n",
       "      <td>Ben's Shop</td>\n",
       "      <td>10</td>\n",
       "    </tr>\n",
       "    <tr>\n",
       "      <th>4</th>\n",
       "      <td>5</td>\n",
       "      <td>1056 Sanchez St</td>\n",
       "      <td>San Francisco</td>\n",
       "      <td>California</td>\n",
       "      <td>USA</td>\n",
       "      <td>Sanchez</td>\n",
       "      <td>12</td>\n",
       "    </tr>\n",
       "    <tr>\n",
       "      <th>5</th>\n",
       "      <td>6</td>\n",
       "      <td>551 Alvarado St</td>\n",
       "      <td>San Francisco</td>\n",
       "      <td>CA 94114</td>\n",
       "      <td>USA</td>\n",
       "      <td>Richvalley</td>\n",
       "      <td>20</td>\n",
       "    </tr>\n",
       "  </tbody>\n",
       "</table>\n",
       "</div>"
      ],
      "text/plain": [
       "   ID          Address           City             State Country         Name  \\\n",
       "0   1     3666 21st St  San Francisco          CA 94114     USA      Madeira   \n",
       "1   2   735 Dolores St  San Francisco          CA 94119     USA  Bready Shop   \n",
       "2   3      332 Hill St  San Francisco  California 94114     USA  Super River   \n",
       "3   4     3995 23rd St  San Francisco          CA 94114     USA   Ben's Shop   \n",
       "4   5  1056 Sanchez St  San Francisco        California     USA      Sanchez   \n",
       "5   6  551 Alvarado St  San Francisco          CA 94114     USA   Richvalley   \n",
       "\n",
       "   Employees  \n",
       "0          8  \n",
       "1         15  \n",
       "2         25  \n",
       "3         10  \n",
       "4         12  \n",
       "5         20  "
      ]
     },
     "execution_count": 22,
     "metadata": {},
     "output_type": "execute_result"
    }
   ],
   "source": [
    "df"
   ]
  },
  {
   "cell_type": "code",
   "execution_count": null,
   "id": "c0e8c100",
   "metadata": {},
   "outputs": [],
   "source": []
  }
 ],
 "metadata": {
  "kernelspec": {
   "display_name": "Python 3",
   "language": "python",
   "name": "python3"
  },
  "language_info": {
   "codemirror_mode": {
    "name": "ipython",
    "version": 3
   },
   "file_extension": ".py",
   "mimetype": "text/x-python",
   "name": "python",
   "nbconvert_exporter": "python",
   "pygments_lexer": "ipython3",
   "version": "3.7.9"
  }
 },
 "nbformat": 4,
 "nbformat_minor": 5
}
