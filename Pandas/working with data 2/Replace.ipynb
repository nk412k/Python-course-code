{
 "cells": [
  {
   "cell_type": "code",
   "execution_count": 1,
   "id": "1a0d6d0e",
   "metadata": {},
   "outputs": [],
   "source": [
    "import pandas as pd\n",
    "import numpy as np"
   ]
  },
  {
   "cell_type": "code",
   "execution_count": 2,
   "id": "f6d67dfe",
   "metadata": {},
   "outputs": [],
   "source": [
    "s=pd.Series([1,2,44,2,3,2,1,3,3,42,34,3])"
   ]
  },
  {
   "cell_type": "code",
   "execution_count": 3,
   "id": "42ebb634",
   "metadata": {},
   "outputs": [
    {
     "data": {
      "text/plain": [
       "0      1\n",
       "1      2\n",
       "2     44\n",
       "3      2\n",
       "4      3\n",
       "5      2\n",
       "6      1\n",
       "7      3\n",
       "8      3\n",
       "9     42\n",
       "10    34\n",
       "11     3\n",
       "dtype: int64"
      ]
     },
     "execution_count": 3,
     "metadata": {},
     "output_type": "execute_result"
    }
   ],
   "source": [
    "s"
   ]
  },
  {
   "cell_type": "code",
   "execution_count": 4,
   "id": "de3d6548",
   "metadata": {},
   "outputs": [
    {
     "data": {
      "text/plain": [
       "0     10\n",
       "1      2\n",
       "2     44\n",
       "3      2\n",
       "4      3\n",
       "5      2\n",
       "6     10\n",
       "7      3\n",
       "8      3\n",
       "9     42\n",
       "10    34\n",
       "11     3\n",
       "dtype: int64"
      ]
     },
     "execution_count": 4,
     "metadata": {},
     "output_type": "execute_result"
    }
   ],
   "source": [
    "s.replace(1,10)"
   ]
  },
  {
   "cell_type": "code",
   "execution_count": 5,
   "id": "53f60adf",
   "metadata": {},
   "outputs": [
    {
     "data": {
      "text/plain": [
       "0     10\n",
       "1      2\n",
       "2     44\n",
       "3      2\n",
       "4     30\n",
       "5      2\n",
       "6     10\n",
       "7     30\n",
       "8     30\n",
       "9     42\n",
       "10    34\n",
       "11    30\n",
       "dtype: int64"
      ]
     },
     "execution_count": 5,
     "metadata": {},
     "output_type": "execute_result"
    }
   ],
   "source": [
    "s.replace([1,3],[10,30])"
   ]
  },
  {
   "cell_type": "code",
   "execution_count": 6,
   "id": "6a19658a",
   "metadata": {},
   "outputs": [
    {
     "data": {
      "text/plain": [
       "0     100\n",
       "1     200\n",
       "2      44\n",
       "3     200\n",
       "4     300\n",
       "5     200\n",
       "6     100\n",
       "7     300\n",
       "8     300\n",
       "9      42\n",
       "10     34\n",
       "11    300\n",
       "dtype: int64"
      ]
     },
     "execution_count": 6,
     "metadata": {},
     "output_type": "execute_result"
    }
   ],
   "source": [
    "s.replace({1:100,2:200,3:300})"
   ]
  },
  {
   "cell_type": "code",
   "execution_count": null,
   "id": "e349303d",
   "metadata": {},
   "outputs": [],
   "source": []
  }
 ],
 "metadata": {
  "kernelspec": {
   "display_name": "Python 3",
   "language": "python",
   "name": "python3"
  },
  "language_info": {
   "codemirror_mode": {
    "name": "ipython",
    "version": 3
   },
   "file_extension": ".py",
   "mimetype": "text/x-python",
   "name": "python",
   "nbconvert_exporter": "python",
   "pygments_lexer": "ipython3",
   "version": "3.7.9"
  }
 },
 "nbformat": 4,
 "nbformat_minor": 5
}
