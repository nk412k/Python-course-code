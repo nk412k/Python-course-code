{
 "cells": [
  {
   "cell_type": "code",
   "execution_count": 1,
   "id": "0f5d94a3",
   "metadata": {},
   "outputs": [],
   "source": [
    "import pandas as pd\n",
    "import numpy as np"
   ]
  },
  {
   "cell_type": "code",
   "execution_count": 2,
   "id": "d6aa8fdb",
   "metadata": {},
   "outputs": [],
   "source": [
    "s1=pd.Series([53,656,34])"
   ]
  },
  {
   "cell_type": "code",
   "execution_count": 3,
   "id": "ccf83835",
   "metadata": {},
   "outputs": [
    {
     "data": {
      "text/plain": [
       "0     53\n",
       "1    656\n",
       "2     34\n",
       "dtype: int64"
      ]
     },
     "execution_count": 3,
     "metadata": {},
     "output_type": "execute_result"
    }
   ],
   "source": [
    "s1"
   ]
  },
  {
   "cell_type": "code",
   "execution_count": 4,
   "id": "eb6f179b",
   "metadata": {},
   "outputs": [
    {
     "data": {
      "text/plain": [
       "0    23\n",
       "1    34\n",
       "2    56\n",
       "3    76\n",
       "dtype: int64"
      ]
     },
     "execution_count": 4,
     "metadata": {},
     "output_type": "execute_result"
    }
   ],
   "source": [
    "s2=pd.Series([23,34,56,76])\n",
    "s2"
   ]
  },
  {
   "cell_type": "code",
   "execution_count": 5,
   "id": "e16567a0",
   "metadata": {},
   "outputs": [
    {
     "data": {
      "text/plain": [
       "s1  0     53\n",
       "    1    656\n",
       "    2     34\n",
       "s2  0     23\n",
       "    1     34\n",
       "    2     56\n",
       "    3     76\n",
       "dtype: int64"
      ]
     },
     "execution_count": 5,
     "metadata": {},
     "output_type": "execute_result"
    }
   ],
   "source": [
    "s3=pd.concat([s1,s2],keys=['s1','s2'])\n",
    "s3"
   ]
  },
  {
   "cell_type": "code",
   "execution_count": 6,
   "id": "3f935358",
   "metadata": {},
   "outputs": [
    {
     "data": {
      "text/html": [
       "<div>\n",
       "<style scoped>\n",
       "    .dataframe tbody tr th:only-of-type {\n",
       "        vertical-align: middle;\n",
       "    }\n",
       "\n",
       "    .dataframe tbody tr th {\n",
       "        vertical-align: top;\n",
       "    }\n",
       "\n",
       "    .dataframe thead th {\n",
       "        text-align: right;\n",
       "    }\n",
       "</style>\n",
       "<table border=\"1\" class=\"dataframe\">\n",
       "  <thead>\n",
       "    <tr style=\"text-align: right;\">\n",
       "      <th></th>\n",
       "      <th>0</th>\n",
       "      <th>1</th>\n",
       "      <th>2</th>\n",
       "      <th>3</th>\n",
       "    </tr>\n",
       "  </thead>\n",
       "  <tbody>\n",
       "    <tr>\n",
       "      <th>s1</th>\n",
       "      <td>53.0</td>\n",
       "      <td>656.0</td>\n",
       "      <td>34.0</td>\n",
       "      <td>NaN</td>\n",
       "    </tr>\n",
       "    <tr>\n",
       "      <th>s2</th>\n",
       "      <td>23.0</td>\n",
       "      <td>34.0</td>\n",
       "      <td>56.0</td>\n",
       "      <td>76.0</td>\n",
       "    </tr>\n",
       "  </tbody>\n",
       "</table>\n",
       "</div>"
      ],
      "text/plain": [
       "       0      1     2     3\n",
       "s1  53.0  656.0  34.0   NaN\n",
       "s2  23.0   34.0  56.0  76.0"
      ]
     },
     "execution_count": 6,
     "metadata": {},
     "output_type": "execute_result"
    }
   ],
   "source": [
    "s3.unstack()"
   ]
  },
  {
   "cell_type": "code",
   "execution_count": 7,
   "id": "ced42d27",
   "metadata": {},
   "outputs": [
    {
     "data": {
      "text/plain": [
       "s1  0     53.0\n",
       "    1    656.0\n",
       "    2     34.0\n",
       "s2  0     23.0\n",
       "    1     34.0\n",
       "    2     56.0\n",
       "    3     76.0\n",
       "dtype: float64"
      ]
     },
     "execution_count": 7,
     "metadata": {},
     "output_type": "execute_result"
    }
   ],
   "source": [
    "s3.unstack().stack()"
   ]
  },
  {
   "cell_type": "code",
   "execution_count": 8,
   "id": "0672e381",
   "metadata": {},
   "outputs": [
    {
     "data": {
      "text/plain": [
       "s1  0     53.0\n",
       "    1    656.0\n",
       "    2     34.0\n",
       "    3      NaN\n",
       "s2  0     23.0\n",
       "    1     34.0\n",
       "    2     56.0\n",
       "    3     76.0\n",
       "dtype: float64"
      ]
     },
     "execution_count": 8,
     "metadata": {},
     "output_type": "execute_result"
    }
   ],
   "source": [
    "s3.unstack().stack(dropna=False)"
   ]
  },
  {
   "cell_type": "code",
   "execution_count": 9,
   "id": "fa791492",
   "metadata": {},
   "outputs": [],
   "source": [
    "df1=pd.DataFrame(np.random.randn(9).reshape(3,3),\n",
    "                index=pd.Index([1,2,3],name='index'),\n",
    "                columns=pd.Index(['A','B','C'],name='COl'))"
   ]
  },
  {
   "cell_type": "code",
   "execution_count": 10,
   "id": "4c0f3bf1",
   "metadata": {},
   "outputs": [
    {
     "data": {
      "text/html": [
       "<div>\n",
       "<style scoped>\n",
       "    .dataframe tbody tr th:only-of-type {\n",
       "        vertical-align: middle;\n",
       "    }\n",
       "\n",
       "    .dataframe tbody tr th {\n",
       "        vertical-align: top;\n",
       "    }\n",
       "\n",
       "    .dataframe thead th {\n",
       "        text-align: right;\n",
       "    }\n",
       "</style>\n",
       "<table border=\"1\" class=\"dataframe\">\n",
       "  <thead>\n",
       "    <tr style=\"text-align: right;\">\n",
       "      <th>COl</th>\n",
       "      <th>A</th>\n",
       "      <th>B</th>\n",
       "      <th>C</th>\n",
       "    </tr>\n",
       "    <tr>\n",
       "      <th>index</th>\n",
       "      <th></th>\n",
       "      <th></th>\n",
       "      <th></th>\n",
       "    </tr>\n",
       "  </thead>\n",
       "  <tbody>\n",
       "    <tr>\n",
       "      <th>1</th>\n",
       "      <td>1.254348</td>\n",
       "      <td>0.363247</td>\n",
       "      <td>-0.076152</td>\n",
       "    </tr>\n",
       "    <tr>\n",
       "      <th>2</th>\n",
       "      <td>-1.184738</td>\n",
       "      <td>-1.053089</td>\n",
       "      <td>0.122473</td>\n",
       "    </tr>\n",
       "    <tr>\n",
       "      <th>3</th>\n",
       "      <td>0.689585</td>\n",
       "      <td>0.885785</td>\n",
       "      <td>-1.439602</td>\n",
       "    </tr>\n",
       "  </tbody>\n",
       "</table>\n",
       "</div>"
      ],
      "text/plain": [
       "COl           A         B         C\n",
       "index                              \n",
       "1      1.254348  0.363247 -0.076152\n",
       "2     -1.184738 -1.053089  0.122473\n",
       "3      0.689585  0.885785 -1.439602"
      ]
     },
     "execution_count": 10,
     "metadata": {},
     "output_type": "execute_result"
    }
   ],
   "source": [
    "df1"
   ]
  },
  {
   "cell_type": "code",
   "execution_count": 11,
   "id": "a044cc74",
   "metadata": {},
   "outputs": [
    {
     "data": {
      "text/plain": [
       "COl  index\n",
       "A    1        1.254348\n",
       "     2       -1.184738\n",
       "     3        0.689585\n",
       "B    1        0.363247\n",
       "     2       -1.053089\n",
       "     3        0.885785\n",
       "C    1       -0.076152\n",
       "     2        0.122473\n",
       "     3       -1.439602\n",
       "dtype: float64"
      ]
     },
     "execution_count": 11,
     "metadata": {},
     "output_type": "execute_result"
    }
   ],
   "source": [
    "df1.unstack()"
   ]
  },
  {
   "cell_type": "code",
   "execution_count": 12,
   "id": "5da3083b",
   "metadata": {},
   "outputs": [
    {
     "data": {
      "text/plain": [
       "COl  index\n",
       "A    1        1.254348\n",
       "     2       -1.184738\n",
       "     3        0.689585\n",
       "B    1        0.363247\n",
       "     2       -1.053089\n",
       "     3        0.885785\n",
       "C    1       -0.076152\n",
       "     2        0.122473\n",
       "     3       -1.439602\n",
       "dtype: float64"
      ]
     },
     "execution_count": 12,
     "metadata": {},
     "output_type": "execute_result"
    }
   ],
   "source": [
    "df1.unstack('index')"
   ]
  },
  {
   "cell_type": "code",
   "execution_count": null,
   "id": "499bf207",
   "metadata": {},
   "outputs": [],
   "source": []
  },
  {
   "cell_type": "code",
   "execution_count": null,
   "id": "ee742b04",
   "metadata": {},
   "outputs": [],
   "source": []
  }
 ],
 "metadata": {
  "kernelspec": {
   "display_name": "Python 3",
   "language": "python",
   "name": "python3"
  },
  "language_info": {
   "codemirror_mode": {
    "name": "ipython",
    "version": 3
   },
   "file_extension": ".py",
   "mimetype": "text/x-python",
   "name": "python",
   "nbconvert_exporter": "python",
   "pygments_lexer": "ipython3",
   "version": "3.7.9"
  }
 },
 "nbformat": 4,
 "nbformat_minor": 5
}
